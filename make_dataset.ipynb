{
 "cells": [
  {
   "cell_type": "code",
   "execution_count": 13,
   "id": "86f29c83-d585-426b-843a-bff1a37ac449",
   "metadata": {},
   "outputs": [],
   "source": [
    "import os\n",
    "import glob\n",
    "import numpy as np\n",
    "import pandas as pd\n",
    "from tqdm import tqdm\n",
    "from datasets import Dataset"
   ]
  },
  {
   "cell_type": "code",
   "execution_count": 3,
   "id": "b188064d-e5e5-4f1d-b996-5a0062a387a7",
   "metadata": {},
   "outputs": [],
   "source": [
    "# set your file dir path\n",
    "npy_directory = '/bask/projects/p/phwq4930-gbm/Zeyu/WSI_Dataset/Conch/TCGA-RCC'\n",
    "txt_directory = '/bask/projects/p/phwq4930-gbm/Zeyu/WSI_Dataset/TCGA_Report/TCGAReportGPT4'"
   ]
  },
  {
   "cell_type": "code",
   "execution_count": 4,
   "id": "c5e93d83-97a5-44ee-a319-b8a1060cffeb",
   "metadata": {},
   "outputs": [],
   "source": [
    "feature1_files = glob.glob(os.path.join(npy_directory, \"*_0_1024.npy\"))\n",
    "feature2_files = glob.glob(os.path.join(npy_directory, \"*_1_512.npy\"))\n",
    "feature3_files = glob.glob(os.path.join(npy_directory, \"*_1_1024.npy\"))\n",
    "text_files = glob.glob(os.path.join(txt_directory, \"*.txt\"))\n",
    "df_fea1 = pd.DataFrame(feature1_files, columns=['fea1_file_path'])\n",
    "df_fea2 = pd.DataFrame(feature2_files, columns=['fea2_file_path'])\n",
    "df_fea3 = pd.DataFrame(feature3_files, columns=['fea3_file_path'])\n",
    "df_text = pd.DataFrame(text_files, columns=['text_file_path'])\n",
    "df_fea1['slide_id'] = df_fea1['fea1_file_path'].apply(lambda x: os.path.basename(x).split('.')[0])\n",
    "df_fea2['slide_id'] = df_fea2['fea2_file_path'].apply(lambda x: os.path.basename(x).split('.')[0])\n",
    "df_fea3['slide_id'] = df_fea3['fea3_file_path'].apply(lambda x: os.path.basename(x).split('.')[0])"
   ]
  },
  {
   "cell_type": "code",
   "execution_count": 5,
   "id": "a422e8ce-0512-4bbc-91d1-b58c10092131",
   "metadata": {},
   "outputs": [],
   "source": [
    "df_fea1['slide_id'] = df_fea1['fea1_file_path'].apply(lambda x: os.path.basename(x).split('.')[0])\n",
    "df_fea2['slide_id'] = df_fea2['fea2_file_path'].apply(lambda x: os.path.basename(x).split('.')[0])\n",
    "df_fea3['slide_id'] = df_fea3['fea3_file_path'].apply(lambda x: os.path.basename(x).split('.')[0])\n",
    "\n",
    "df_fea = pd.merge(df_fea1, df_fea2, on='slide_id', how='inner')\n",
    "df_fea = pd.merge(df_fea, df_fea3, on='slide_id', how='inner')\n",
    "\n",
    "df_fea['patient_id'] = df_fea['slide_id'].apply(lambda x: x[:12])\n",
    "\n",
    "df_text['patient_id'] = df_text['text_file_path'].apply(lambda x: os.path.basename(x).split('.')[0])\n",
    "\n",
    "df = pd.merge(df_fea, df_text, on='patient_id', how='inner')"
   ]
  },
  {
   "cell_type": "code",
   "execution_count": 6,
   "id": "5f835b4f-669a-43f5-a7ba-ce9b371e895b",
   "metadata": {},
   "outputs": [
    {
     "data": {
      "text/html": [
       "<div>\n",
       "<style scoped>\n",
       "    .dataframe tbody tr th:only-of-type {\n",
       "        vertical-align: middle;\n",
       "    }\n",
       "\n",
       "    .dataframe tbody tr th {\n",
       "        vertical-align: top;\n",
       "    }\n",
       "\n",
       "    .dataframe thead th {\n",
       "        text-align: right;\n",
       "    }\n",
       "</style>\n",
       "<table border=\"1\" class=\"dataframe\">\n",
       "  <thead>\n",
       "    <tr style=\"text-align: right;\">\n",
       "      <th></th>\n",
       "      <th>fea1_file_path</th>\n",
       "      <th>slide_id</th>\n",
       "      <th>fea2_file_path</th>\n",
       "      <th>fea3_file_path</th>\n",
       "      <th>patient_id</th>\n",
       "      <th>text_file_path</th>\n",
       "    </tr>\n",
       "  </thead>\n",
       "  <tbody>\n",
       "    <tr>\n",
       "      <th>0</th>\n",
       "      <td>/bask/projects/p/phwq4930-gbm/Zeyu/WSI_Dataset...</td>\n",
       "      <td>TCGA-BP-4760-01Z-00-DX1</td>\n",
       "      <td>/bask/projects/p/phwq4930-gbm/Zeyu/WSI_Dataset...</td>\n",
       "      <td>/bask/projects/p/phwq4930-gbm/Zeyu/WSI_Dataset...</td>\n",
       "      <td>TCGA-BP-4760</td>\n",
       "      <td>/bask/projects/p/phwq4930-gbm/Zeyu/WSI_Dataset...</td>\n",
       "    </tr>\n",
       "    <tr>\n",
       "      <th>1</th>\n",
       "      <td>/bask/projects/p/phwq4930-gbm/Zeyu/WSI_Dataset...</td>\n",
       "      <td>TCGA-Y8-A8RY-01Z-00-DX1</td>\n",
       "      <td>/bask/projects/p/phwq4930-gbm/Zeyu/WSI_Dataset...</td>\n",
       "      <td>/bask/projects/p/phwq4930-gbm/Zeyu/WSI_Dataset...</td>\n",
       "      <td>TCGA-Y8-A8RY</td>\n",
       "      <td>/bask/projects/p/phwq4930-gbm/Zeyu/WSI_Dataset...</td>\n",
       "    </tr>\n",
       "    <tr>\n",
       "      <th>2</th>\n",
       "      <td>/bask/projects/p/phwq4930-gbm/Zeyu/WSI_Dataset...</td>\n",
       "      <td>TCGA-B9-4115-01Z-00-DX1</td>\n",
       "      <td>/bask/projects/p/phwq4930-gbm/Zeyu/WSI_Dataset...</td>\n",
       "      <td>/bask/projects/p/phwq4930-gbm/Zeyu/WSI_Dataset...</td>\n",
       "      <td>TCGA-B9-4115</td>\n",
       "      <td>/bask/projects/p/phwq4930-gbm/Zeyu/WSI_Dataset...</td>\n",
       "    </tr>\n",
       "    <tr>\n",
       "      <th>3</th>\n",
       "      <td>/bask/projects/p/phwq4930-gbm/Zeyu/WSI_Dataset...</td>\n",
       "      <td>TCGA-A4-7828-01Z-00-DX1</td>\n",
       "      <td>/bask/projects/p/phwq4930-gbm/Zeyu/WSI_Dataset...</td>\n",
       "      <td>/bask/projects/p/phwq4930-gbm/Zeyu/WSI_Dataset...</td>\n",
       "      <td>TCGA-A4-7828</td>\n",
       "      <td>/bask/projects/p/phwq4930-gbm/Zeyu/WSI_Dataset...</td>\n",
       "    </tr>\n",
       "    <tr>\n",
       "      <th>4</th>\n",
       "      <td>/bask/projects/p/phwq4930-gbm/Zeyu/WSI_Dataset...</td>\n",
       "      <td>TCGA-CJ-5683-01Z-00-DX1</td>\n",
       "      <td>/bask/projects/p/phwq4930-gbm/Zeyu/WSI_Dataset...</td>\n",
       "      <td>/bask/projects/p/phwq4930-gbm/Zeyu/WSI_Dataset...</td>\n",
       "      <td>TCGA-CJ-5683</td>\n",
       "      <td>/bask/projects/p/phwq4930-gbm/Zeyu/WSI_Dataset...</td>\n",
       "    </tr>\n",
       "  </tbody>\n",
       "</table>\n",
       "</div>"
      ],
      "text/plain": [
       "                                      fea1_file_path                 slide_id  \\\n",
       "0  /bask/projects/p/phwq4930-gbm/Zeyu/WSI_Dataset...  TCGA-BP-4760-01Z-00-DX1   \n",
       "1  /bask/projects/p/phwq4930-gbm/Zeyu/WSI_Dataset...  TCGA-Y8-A8RY-01Z-00-DX1   \n",
       "2  /bask/projects/p/phwq4930-gbm/Zeyu/WSI_Dataset...  TCGA-B9-4115-01Z-00-DX1   \n",
       "3  /bask/projects/p/phwq4930-gbm/Zeyu/WSI_Dataset...  TCGA-A4-7828-01Z-00-DX1   \n",
       "4  /bask/projects/p/phwq4930-gbm/Zeyu/WSI_Dataset...  TCGA-CJ-5683-01Z-00-DX1   \n",
       "\n",
       "                                      fea2_file_path  \\\n",
       "0  /bask/projects/p/phwq4930-gbm/Zeyu/WSI_Dataset...   \n",
       "1  /bask/projects/p/phwq4930-gbm/Zeyu/WSI_Dataset...   \n",
       "2  /bask/projects/p/phwq4930-gbm/Zeyu/WSI_Dataset...   \n",
       "3  /bask/projects/p/phwq4930-gbm/Zeyu/WSI_Dataset...   \n",
       "4  /bask/projects/p/phwq4930-gbm/Zeyu/WSI_Dataset...   \n",
       "\n",
       "                                      fea3_file_path    patient_id  \\\n",
       "0  /bask/projects/p/phwq4930-gbm/Zeyu/WSI_Dataset...  TCGA-BP-4760   \n",
       "1  /bask/projects/p/phwq4930-gbm/Zeyu/WSI_Dataset...  TCGA-Y8-A8RY   \n",
       "2  /bask/projects/p/phwq4930-gbm/Zeyu/WSI_Dataset...  TCGA-B9-4115   \n",
       "3  /bask/projects/p/phwq4930-gbm/Zeyu/WSI_Dataset...  TCGA-A4-7828   \n",
       "4  /bask/projects/p/phwq4930-gbm/Zeyu/WSI_Dataset...  TCGA-CJ-5683   \n",
       "\n",
       "                                      text_file_path  \n",
       "0  /bask/projects/p/phwq4930-gbm/Zeyu/WSI_Dataset...  \n",
       "1  /bask/projects/p/phwq4930-gbm/Zeyu/WSI_Dataset...  \n",
       "2  /bask/projects/p/phwq4930-gbm/Zeyu/WSI_Dataset...  \n",
       "3  /bask/projects/p/phwq4930-gbm/Zeyu/WSI_Dataset...  \n",
       "4  /bask/projects/p/phwq4930-gbm/Zeyu/WSI_Dataset...  "
      ]
     },
     "execution_count": 6,
     "metadata": {},
     "output_type": "execute_result"
    }
   ],
   "source": [
    "df.head()"
   ]
  },
  {
   "cell_type": "code",
   "execution_count": 45,
   "id": "cbaa7c7b-a71d-46d9-927f-ab5f24bdc38e",
   "metadata": {},
   "outputs": [
    {
     "name": "stderr",
     "output_type": "stream",
     "text": [
      "100%|██████████| 910/910 [00:29<00:00, 30.91it/s]\n"
     ]
    }
   ],
   "source": [
    "data = []\n",
    "for i in tqdm(range(df.shape[0])):\n",
    "    feature1_content = np.load(df.iloc[i]['fea1_file_path'], allow_pickle=True) \n",
    "    feature1 = feature1_content[()]['feature'].cpu().numpy().flatten() # Nx512\n",
    "    feature1_cor = np.array([x.split('_')[:2] for x in feature1_content[()]['index']]).astype('int').flatten() # Nx2\n",
    "    \n",
    "    feature2_content = np.load(df.iloc[i]['fea2_file_path'], allow_pickle=True)\n",
    "    feature2 = feature2_content[()]['feature'].cpu().numpy().flatten()\n",
    "    feature2_cor = np.array([x.split('_')[:2] for x in feature2_content[()]['index']]).astype('int').flatten()\n",
    "    \n",
    "    feature3_content = np.load(df.iloc[i]['fea3_file_path'], allow_pickle=True)\n",
    "    feature3 = feature3_content[()]['feature'].cpu().numpy().flatten()\n",
    "    feature3_cor = np.array([x.split('_')[:2] for x in feature3_content[()]['index']]).astype('int').flatten()\n",
    "    with open(df.iloc[i]['text_file_path'], 'r') as txt_file:\n",
    "        txt_content = txt_file.read()\n",
    "        \n",
    "    data.append({'f1': feature1, 'cor1': feature1_cor, \n",
    "                 'f2': feature2, 'cor2': feature2_cor, \n",
    "                 'f3': feature3, 'cor3': feature3_cor, \n",
    "                 'label': txt_content})"
   ]
  },
  {
   "cell_type": "code",
   "execution_count": 46,
   "id": "6266fec6-577d-4a3e-96ff-2da6d4ad5efc",
   "metadata": {},
   "outputs": [],
   "source": [
    "# to huggingface format\n",
    "df_data = pd.DataFrame(data)\n",
    "dataset = Dataset.from_pandas(df_data)"
   ]
  },
  {
   "cell_type": "code",
   "execution_count": 47,
   "id": "a4af6b5f-bf38-4564-8113-7cbcc28cb18b",
   "metadata": {},
   "outputs": [
    {
     "data": {
      "text/plain": [
       "Dataset({\n",
       "    features: ['f1', 'cor1', 'f2', 'cor2', 'f3', 'cor3', 'label'],\n",
       "    num_rows: 910\n",
       "})"
      ]
     },
     "execution_count": 47,
     "metadata": {},
     "output_type": "execute_result"
    }
   ],
   "source": [
    "dataset"
   ]
  },
  {
   "cell_type": "code",
   "execution_count": 48,
   "id": "e932bf5e-85a0-4e7e-8bca-f204a61b72b1",
   "metadata": {},
   "outputs": [
    {
     "name": "stderr",
     "output_type": "stream",
     "text": [
      "Saving the dataset (19/19 shards): 100%|██████████| 910/910 [00:04<00:00, 189.66 examples/s]\n"
     ]
    }
   ],
   "source": [
    "# 保存数据集\n",
    "dataset.save_to_disk('/bask/projects/p/phwq4930-gbm/Zeyu/WSI_Dataset/WVLMdata_test')\n",
    "# 加载数据集\n",
    "loaded_dataset = Dataset.load_from_disk('/bask/projects/p/phwq4930-gbm/Zeyu/WSI_Dataset/WVLMdata_test')"
   ]
  },
  {
   "cell_type": "code",
   "execution_count": 49,
   "id": "cc0d9924-6ce8-45b0-a6fb-efe4443c5bd8",
   "metadata": {},
   "outputs": [
    {
     "data": {
      "text/plain": [
       "Dataset({\n",
       "    features: ['f1', 'cor1', 'f2', 'cor2', 'f3', 'cor3', 'label'],\n",
       "    num_rows: 910\n",
       "})"
      ]
     },
     "execution_count": 49,
     "metadata": {},
     "output_type": "execute_result"
    }
   ],
   "source": [
    "loaded_dataset"
   ]
  },
  {
   "cell_type": "code",
   "execution_count": null,
   "id": "ffc437c3-1fd1-4c8e-b07a-3e77386c7c4d",
   "metadata": {},
   "outputs": [],
   "source": []
  }
 ],
 "metadata": {
  "kernelspec": {
   "display_name": "asiw9691_conda_env (Conda)",
   "language": "python",
   "name": "sys_asiw9691_conda_env"
  },
  "language_info": {
   "codemirror_mode": {
    "name": "ipython",
    "version": 3
   },
   "file_extension": ".py",
   "mimetype": "text/x-python",
   "name": "python",
   "nbconvert_exporter": "python",
   "pygments_lexer": "ipython3",
   "version": "3.10.4"
  }
 },
 "nbformat": 4,
 "nbformat_minor": 5
}

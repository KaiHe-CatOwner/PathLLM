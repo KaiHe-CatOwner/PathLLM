{
 "cells": [
  {
   "cell_type": "code",
   "execution_count": 1,
   "id": "a4f65bad-9c2c-43b7-8688-094b6f9da364",
   "metadata": {},
   "outputs": [],
   "source": [
    "import os\n",
    "import glob\n",
    "import numpy as np\n",
    "import pandas as pd\n",
    "from tqdm import tqdm\n",
    "from sklearn.cluster import KMeans\n",
    "from concurrent.futures import ThreadPoolExecutor, as_completed"
   ]
  },
  {
   "cell_type": "code",
   "execution_count": 2,
   "id": "00a61558-f991-44df-a247-f0295cc88c27",
   "metadata": {},
   "outputs": [],
   "source": [
    "# set your file dir path\n",
    "npy_directory = '/bask/homes/a/asiw9691/PathVLM/WSI_Dataset/Conch/TCGA-*/'\n",
    "feature1_files = glob.glob(os.path.join(npy_directory, \"*_0_1024.npy\"))\n",
    "feature2_files = glob.glob(os.path.join(npy_directory, \"*_1_512.npy\"))\n",
    "feature3_files = glob.glob(os.path.join(npy_directory, \"*_1_1024.npy\"))\n",
    "\n",
    "df_fea1 = pd.DataFrame(feature1_files, columns=['fea1_file_path'])\n",
    "df_fea2 = pd.DataFrame(feature2_files, columns=['fea2_file_path'])\n",
    "df_fea3 = pd.DataFrame(feature3_files, columns=['fea3_file_path'])\n",
    "\n",
    "patients_file = '/bask/homes/a/asiw9691/PathVLM/WSI_Dataset/TCGA_Clinical.tsv'\n",
    "patients_list = pd.read_csv(patients_file, sep='\\t')[['case_submitter_id','project_id']].drop_duplicates()\n",
    "patients_list.columns = ['patient_id','project']"
   ]
  },
  {
   "cell_type": "code",
   "execution_count": 3,
   "id": "65006561-f0e1-4a93-b585-3f8cbe12a762",
   "metadata": {},
   "outputs": [],
   "source": [
    "df_fea1['slide_id'] = df_fea1['fea1_file_path'].apply(lambda x: os.path.basename(x).split('.')[0])\n",
    "df_fea2['slide_id'] = df_fea2['fea2_file_path'].apply(lambda x: os.path.basename(x).split('.')[0])\n",
    "df_fea3['slide_id'] = df_fea3['fea3_file_path'].apply(lambda x: os.path.basename(x).split('.')[0])\n",
    "\n",
    "df_fea1 = df_fea1.drop_duplicates(subset='slide_id', keep='first').reset_index(drop=True)\n",
    "df_fea2 = df_fea2.drop_duplicates(subset='slide_id', keep='first').reset_index(drop=True)\n",
    "df_fea3 = df_fea3.drop_duplicates(subset='slide_id', keep='first').reset_index(drop=True)\n",
    "\n",
    "df_fea = pd.merge(df_fea1, df_fea2, on='slide_id', how='inner')\n",
    "df_fea = pd.merge(df_fea, df_fea3, on='slide_id', how='inner')\n",
    "\n",
    "df_fea['patient_id'] = df_fea['slide_id'].apply(lambda x: x[:12])\n",
    "\n",
    "df = pd.merge(df_fea, patients_list, on='patient_id', how='inner')"
   ]
  },
  {
   "cell_type": "code",
   "execution_count": 4,
   "id": "c261efa1-f96f-4325-802b-a48f3f697501",
   "metadata": {},
   "outputs": [
    {
     "data": {
      "text/html": [
       "<div>\n",
       "<style scoped>\n",
       "    .dataframe tbody tr th:only-of-type {\n",
       "        vertical-align: middle;\n",
       "    }\n",
       "\n",
       "    .dataframe tbody tr th {\n",
       "        vertical-align: top;\n",
       "    }\n",
       "\n",
       "    .dataframe thead th {\n",
       "        text-align: right;\n",
       "    }\n",
       "</style>\n",
       "<table border=\"1\" class=\"dataframe\">\n",
       "  <thead>\n",
       "    <tr style=\"text-align: right;\">\n",
       "      <th></th>\n",
       "      <th>fea1_file_path</th>\n",
       "      <th>slide_id</th>\n",
       "      <th>fea2_file_path</th>\n",
       "      <th>fea3_file_path</th>\n",
       "      <th>patient_id</th>\n",
       "      <th>project</th>\n",
       "    </tr>\n",
       "  </thead>\n",
       "  <tbody>\n",
       "    <tr>\n",
       "      <th>0</th>\n",
       "      <td>/bask/homes/a/asiw9691/PathVLM/WSI_Dataset/Con...</td>\n",
       "      <td>TCGA-FK-A4UB-01Z-00-DX1</td>\n",
       "      <td>/bask/homes/a/asiw9691/PathVLM/WSI_Dataset/Con...</td>\n",
       "      <td>/bask/homes/a/asiw9691/PathVLM/WSI_Dataset/Con...</td>\n",
       "      <td>TCGA-FK-A4UB</td>\n",
       "      <td>TCGA-THCA</td>\n",
       "    </tr>\n",
       "    <tr>\n",
       "      <th>1</th>\n",
       "      <td>/bask/homes/a/asiw9691/PathVLM/WSI_Dataset/Con...</td>\n",
       "      <td>TCGA-EM-A22O-01Z-00-DX1</td>\n",
       "      <td>/bask/homes/a/asiw9691/PathVLM/WSI_Dataset/Con...</td>\n",
       "      <td>/bask/homes/a/asiw9691/PathVLM/WSI_Dataset/Con...</td>\n",
       "      <td>TCGA-EM-A22O</td>\n",
       "      <td>TCGA-THCA</td>\n",
       "    </tr>\n",
       "    <tr>\n",
       "      <th>2</th>\n",
       "      <td>/bask/homes/a/asiw9691/PathVLM/WSI_Dataset/Con...</td>\n",
       "      <td>TCGA-FK-A3SE-01Z-00-DX1</td>\n",
       "      <td>/bask/homes/a/asiw9691/PathVLM/WSI_Dataset/Con...</td>\n",
       "      <td>/bask/homes/a/asiw9691/PathVLM/WSI_Dataset/Con...</td>\n",
       "      <td>TCGA-FK-A3SE</td>\n",
       "      <td>TCGA-THCA</td>\n",
       "    </tr>\n",
       "    <tr>\n",
       "      <th>3</th>\n",
       "      <td>/bask/homes/a/asiw9691/PathVLM/WSI_Dataset/Con...</td>\n",
       "      <td>TCGA-DE-A4MD-01Z-00-DX1</td>\n",
       "      <td>/bask/homes/a/asiw9691/PathVLM/WSI_Dataset/Con...</td>\n",
       "      <td>/bask/homes/a/asiw9691/PathVLM/WSI_Dataset/Con...</td>\n",
       "      <td>TCGA-DE-A4MD</td>\n",
       "      <td>TCGA-THCA</td>\n",
       "    </tr>\n",
       "    <tr>\n",
       "      <th>4</th>\n",
       "      <td>/bask/homes/a/asiw9691/PathVLM/WSI_Dataset/Con...</td>\n",
       "      <td>TCGA-L6-A4EP-01Z-00-DX1</td>\n",
       "      <td>/bask/homes/a/asiw9691/PathVLM/WSI_Dataset/Con...</td>\n",
       "      <td>/bask/homes/a/asiw9691/PathVLM/WSI_Dataset/Con...</td>\n",
       "      <td>TCGA-L6-A4EP</td>\n",
       "      <td>TCGA-THCA</td>\n",
       "    </tr>\n",
       "  </tbody>\n",
       "</table>\n",
       "</div>"
      ],
      "text/plain": [
       "                                      fea1_file_path                 slide_id  \\\n",
       "0  /bask/homes/a/asiw9691/PathVLM/WSI_Dataset/Con...  TCGA-FK-A4UB-01Z-00-DX1   \n",
       "1  /bask/homes/a/asiw9691/PathVLM/WSI_Dataset/Con...  TCGA-EM-A22O-01Z-00-DX1   \n",
       "2  /bask/homes/a/asiw9691/PathVLM/WSI_Dataset/Con...  TCGA-FK-A3SE-01Z-00-DX1   \n",
       "3  /bask/homes/a/asiw9691/PathVLM/WSI_Dataset/Con...  TCGA-DE-A4MD-01Z-00-DX1   \n",
       "4  /bask/homes/a/asiw9691/PathVLM/WSI_Dataset/Con...  TCGA-L6-A4EP-01Z-00-DX1   \n",
       "\n",
       "                                      fea2_file_path  \\\n",
       "0  /bask/homes/a/asiw9691/PathVLM/WSI_Dataset/Con...   \n",
       "1  /bask/homes/a/asiw9691/PathVLM/WSI_Dataset/Con...   \n",
       "2  /bask/homes/a/asiw9691/PathVLM/WSI_Dataset/Con...   \n",
       "3  /bask/homes/a/asiw9691/PathVLM/WSI_Dataset/Con...   \n",
       "4  /bask/homes/a/asiw9691/PathVLM/WSI_Dataset/Con...   \n",
       "\n",
       "                                      fea3_file_path    patient_id    project  \n",
       "0  /bask/homes/a/asiw9691/PathVLM/WSI_Dataset/Con...  TCGA-FK-A4UB  TCGA-THCA  \n",
       "1  /bask/homes/a/asiw9691/PathVLM/WSI_Dataset/Con...  TCGA-EM-A22O  TCGA-THCA  \n",
       "2  /bask/homes/a/asiw9691/PathVLM/WSI_Dataset/Con...  TCGA-FK-A3SE  TCGA-THCA  \n",
       "3  /bask/homes/a/asiw9691/PathVLM/WSI_Dataset/Con...  TCGA-DE-A4MD  TCGA-THCA  \n",
       "4  /bask/homes/a/asiw9691/PathVLM/WSI_Dataset/Con...  TCGA-L6-A4EP  TCGA-THCA  "
      ]
     },
     "execution_count": 4,
     "metadata": {},
     "output_type": "execute_result"
    }
   ],
   "source": [
    "df.head()"
   ]
  },
  {
   "cell_type": "code",
   "execution_count": 5,
   "id": "43a2dc76-ee1c-43ea-8c7f-df742e85ab13",
   "metadata": {},
   "outputs": [],
   "source": [
    "# 定义聚类中心计算函数\n",
    "def get_cluster_centers_indices(data, n_clusters):\n",
    "    kmeans = KMeans(n_clusters=n_clusters, random_state=42)\n",
    "    kmeans.fit(data)\n",
    "    labels = kmeans.labels_\n",
    "    \n",
    "    cluster_centers_indices = []\n",
    "    for i in range(n_clusters):\n",
    "        cluster_indices = np.where(labels == i)[0]\n",
    "        center_index = cluster_indices[np.argmin(np.linalg.norm(data[cluster_indices] - kmeans.cluster_centers_[i], axis=1))]\n",
    "        cluster_centers_indices.append(center_index)\n",
    "    \n",
    "    return cluster_centers_indices\n",
    "\n",
    "# 定义处理单行数据的函数\n",
    "def process_row(i, df, n_clusters):\n",
    "    feature1_content = np.load(df.iloc[i]['fea1_file_path'], allow_pickle=True)\n",
    "    feature1 = feature1_content[()]['feature'].cpu().numpy()\n",
    "    feature1_cor = feature1_content[()]['index']\n",
    "    \n",
    "    feature2_content = np.load(df.iloc[i]['fea2_file_path'], allow_pickle=True)\n",
    "    feature2 = feature2_content[()]['feature'].cpu().numpy()\n",
    "    feature2_cor = feature2_content[()]['index']\n",
    "    \n",
    "    feature3_content = np.load(df.iloc[i]['fea3_file_path'], allow_pickle=True)\n",
    "    feature3 = feature3_content[()]['feature'].cpu().numpy()\n",
    "    feature3_cor = feature3_content[()]['index']\n",
    "    \n",
    "    try:\n",
    "        f1_cc = get_cluster_centers_indices(feature1, n_clusters[0])\n",
    "        f1_cc_cor = [feature1_cor[index] for index in f1_cc]\n",
    "    except Exception:\n",
    "        f1_cc_cor = []\n",
    "    try:\n",
    "        f2_cc = get_cluster_centers_indices(feature2, n_clusters[1])\n",
    "        f2_cc_cor = [feature2_cor[index] for index in f2_cc]\n",
    "    except Exception:\n",
    "        f2_cc_cor = []\n",
    "    try:\n",
    "        f3_cc = get_cluster_centers_indices(feature3, n_clusters[2])\n",
    "        f3_cc_cor = [feature3_cor[index] for index in f3_cc]\n",
    "    except Exception:\n",
    "        f3_cc_cor = []\n",
    "    \n",
    "    return {'f1024_cc': ','.join(f1_cc_cor), \n",
    "            'f2048_cc': ','.join(f2_cc_cor), \n",
    "            'f4096_cc': ','.join(f3_cc_cor),\n",
    "            'slide_id': df['slide_id'].iloc[i],\n",
    "            'project': df['project'].iloc[i]}\n",
    "\n",
    "def process_data_multithreaded(df, n_clusters, max_threads=4):\n",
    "    data = []\n",
    "    \n",
    "    with ThreadPoolExecutor(max_workers=max_threads) as executor:\n",
    "        futures = [executor.submit(process_row, i, df, n_clusters) for i in range(df.shape[0])]\n",
    "        \n",
    "        for future in tqdm(as_completed(futures), total=len(futures)):\n",
    "            data.append(future.result())\n",
    "    \n",
    "    return data"
   ]
  },
  {
   "cell_type": "code",
   "execution_count": 6,
   "id": "ff38ec3a-6e95-4614-ba29-87dac45a5724",
   "metadata": {},
   "outputs": [
    {
     "name": "stdout",
     "output_type": "stream",
     "text": [
      "TCGA-THCA\n",
      "(518, 6)\n"
     ]
    },
    {
     "name": "stderr",
     "output_type": "stream",
     "text": [
      "100%|██████████| 600/600 [01:30<00:00,  6.63it/s]\n"
     ]
    },
    {
     "name": "stdout",
     "output_type": "stream",
     "text": [
      "TCGA-LUAD\n",
      "(530, 6)\n"
     ]
    },
    {
     "name": "stderr",
     "output_type": "stream",
     "text": [
      "100%|██████████| 530/530 [01:02<00:00,  8.41it/s]\n"
     ]
    },
    {
     "name": "stdout",
     "output_type": "stream",
     "text": [
      "TCGA-LUSC\n",
      "(512, 6)\n"
     ]
    },
    {
     "name": "stderr",
     "output_type": "stream",
     "text": [
      "100%|██████████| 512/512 [01:00<00:00,  8.41it/s]\n"
     ]
    },
    {
     "name": "stdout",
     "output_type": "stream",
     "text": [
      "TCGA-BRCA\n",
      "(1121, 6)\n"
     ]
    },
    {
     "name": "stderr",
     "output_type": "stream",
     "text": [
      "100%|██████████| 1121/1121 [02:05<00:00,  8.92it/s]\n"
     ]
    },
    {
     "name": "stdout",
     "output_type": "stream",
     "text": [
      "TCGA-BLCA\n",
      "(457, 6)\n"
     ]
    },
    {
     "name": "stderr",
     "output_type": "stream",
     "text": [
      "100%|██████████| 457/457 [01:05<00:00,  6.97it/s]\n"
     ]
    },
    {
     "name": "stdout",
     "output_type": "stream",
     "text": [
      "TCGA-PRAD\n",
      "(449, 6)\n"
     ]
    },
    {
     "name": "stderr",
     "output_type": "stream",
     "text": [
      "100%|██████████| 449/449 [00:52<00:00,  8.60it/s]\n"
     ]
    },
    {
     "name": "stdout",
     "output_type": "stream",
     "text": [
      "TCGA-STAD\n",
      "(400, 6)\n"
     ]
    },
    {
     "name": "stderr",
     "output_type": "stream",
     "text": [
      "100%|██████████| 400/400 [00:44<00:00,  9.09it/s]\n"
     ]
    },
    {
     "name": "stdout",
     "output_type": "stream",
     "text": [
      "TCGA-OV\n",
      "(107, 6)\n"
     ]
    },
    {
     "name": "stderr",
     "output_type": "stream",
     "text": [
      "100%|██████████| 107/107 [00:15<00:00,  6.76it/s]\n"
     ]
    },
    {
     "name": "stdout",
     "output_type": "stream",
     "text": [
      "TCGA-HNSC\n",
      "(472, 6)\n"
     ]
    },
    {
     "name": "stderr",
     "output_type": "stream",
     "text": [
      "100%|██████████| 472/472 [00:48<00:00,  9.74it/s]\n"
     ]
    },
    {
     "name": "stdout",
     "output_type": "stream",
     "text": [
      "TCGA-UCEC\n",
      "(566, 6)\n"
     ]
    },
    {
     "name": "stderr",
     "output_type": "stream",
     "text": [
      "100%|██████████| 566/566 [01:25<00:00,  6.61it/s]\n"
     ]
    },
    {
     "name": "stdout",
     "output_type": "stream",
     "text": [
      "TCGA-LIHC\n",
      "(379, 6)\n"
     ]
    },
    {
     "name": "stderr",
     "output_type": "stream",
     "text": [
      "100%|██████████| 379/379 [00:43<00:00,  8.66it/s]\n"
     ]
    },
    {
     "name": "stdout",
     "output_type": "stream",
     "text": [
      "TCGA-CESC\n",
      "(279, 6)\n"
     ]
    },
    {
     "name": "stderr",
     "output_type": "stream",
     "text": [
      "100%|██████████| 279/279 [00:28<00:00,  9.79it/s]\n"
     ]
    },
    {
     "name": "stdout",
     "output_type": "stream",
     "text": [
      "TCGA-SKCM\n",
      "(474, 6)\n"
     ]
    },
    {
     "name": "stderr",
     "output_type": "stream",
     "text": [
      " 53%|█████▎    | 250/474 [00:32<00:22, 10.15it/s]IOPub message rate exceeded.\n",
      "The Jupyter server will temporarily stop sending output\n",
      "to the client in order to avoid crashing it.\n",
      "To change this limit, set the config variable\n",
      "`--ServerApp.iopub_msg_rate_limit`.\n",
      "\n",
      "Current values:\n",
      "ServerApp.iopub_msg_rate_limit=1000.0 (msgs/sec)\n",
      "ServerApp.rate_limit_window=3.0 (secs)\n",
      "\n",
      "100%|██████████| 297/297 [00:50<00:00,  5.88it/s]\n"
     ]
    },
    {
     "name": "stdout",
     "output_type": "stream",
     "text": [
      "TCGA-KICH\n",
      "(121, 6)\n"
     ]
    },
    {
     "name": "stderr",
     "output_type": "stream",
     "text": [
      "100%|██████████| 121/121 [00:31<00:00,  3.90it/s]\n"
     ]
    },
    {
     "name": "stdout",
     "output_type": "stream",
     "text": [
      "TCGA-LGG\n",
      "(843, 6)\n"
     ]
    },
    {
     "name": "stderr",
     "output_type": "stream",
     "text": [
      "100%|██████████| 843/843 [01:25<00:00,  9.81it/s]\n"
     ]
    },
    {
     "name": "stdout",
     "output_type": "stream",
     "text": [
      "TCGA-COAD\n",
      "(442, 6)\n"
     ]
    },
    {
     "name": "stderr",
     "output_type": "stream",
     "text": [
      "100%|██████████| 442/442 [00:55<00:00,  7.90it/s]\n"
     ]
    },
    {
     "name": "stdout",
     "output_type": "stream",
     "text": [
      "TCGA-ACC\n",
      "(227, 6)\n"
     ]
    },
    {
     "name": "stderr",
     "output_type": "stream",
     "text": [
      "100%|██████████| 227/227 [00:30<00:00,  7.53it/s]\n"
     ]
    },
    {
     "name": "stdout",
     "output_type": "stream",
     "text": [
      "TCGA-MESO\n",
      "(87, 6)\n"
     ]
    },
    {
     "name": "stderr",
     "output_type": "stream",
     "text": [
      "100%|██████████| 87/87 [00:08<00:00, 10.36it/s]\n"
     ]
    },
    {
     "name": "stdout",
     "output_type": "stream",
     "text": [
      "TCGA-PCPG\n",
      "(196, 6)\n"
     ]
    },
    {
     "name": "stderr",
     "output_type": "stream",
     "text": [
      "100%|██████████| 196/196 [00:24<00:00,  8.01it/s]\n"
     ]
    },
    {
     "name": "stdout",
     "output_type": "stream",
     "text": [
      "TCGA-CHOL\n",
      "(38, 6)\n"
     ]
    },
    {
     "name": "stderr",
     "output_type": "stream",
     "text": [
      "100%|██████████| 38/38 [00:05<00:00,  6.67it/s]\n"
     ]
    },
    {
     "name": "stdout",
     "output_type": "stream",
     "text": [
      "TCGA-UCS\n",
      "(91, 6)\n"
     ]
    },
    {
     "name": "stderr",
     "output_type": "stream",
     "text": [
      "100%|██████████| 91/91 [00:12<00:00,  7.32it/s]\n"
     ]
    },
    {
     "name": "stdout",
     "output_type": "stream",
     "text": [
      "TCGA-TGCT\n",
      "(254, 6)\n"
     ]
    },
    {
     "name": "stderr",
     "output_type": "stream",
     "text": [
      "100%|██████████| 254/254 [00:30<00:00,  8.22it/s]\n"
     ]
    },
    {
     "name": "stdout",
     "output_type": "stream",
     "text": [
      "TCGA-ESCA\n",
      "(158, 6)\n"
     ]
    },
    {
     "name": "stderr",
     "output_type": "stream",
     "text": [
      "100%|██████████| 158/158 [00:15<00:00, 10.16it/s]\n"
     ]
    },
    {
     "name": "stdout",
     "output_type": "stream",
     "text": [
      "TCGA-PAAD\n",
      "(208, 6)\n"
     ]
    },
    {
     "name": "stderr",
     "output_type": "stream",
     "text": [
      "100%|██████████| 208/208 [00:22<00:00,  9.16it/s]\n"
     ]
    },
    {
     "name": "stdout",
     "output_type": "stream",
     "text": [
      "TCGA-THYM\n",
      "(180, 6)\n"
     ]
    },
    {
     "name": "stderr",
     "output_type": "stream",
     "text": [
      "100%|██████████| 180/180 [00:23<00:00,  7.53it/s]\n"
     ]
    },
    {
     "name": "stdout",
     "output_type": "stream",
     "text": [
      "TCGA-READ\n",
      "(157, 6)\n"
     ]
    },
    {
     "name": "stderr",
     "output_type": "stream",
     "text": [
      "100%|██████████| 157/157 [00:22<00:00,  7.07it/s]\n"
     ]
    },
    {
     "name": "stdout",
     "output_type": "stream",
     "text": [
      "TCGA-UVM\n",
      "(80, 6)\n"
     ]
    },
    {
     "name": "stderr",
     "output_type": "stream",
     "text": [
      "100%|██████████| 80/80 [00:07<00:00, 10.93it/s]\n"
     ]
    },
    {
     "name": "stdout",
     "output_type": "stream",
     "text": [
      "TCGA-DLBC\n",
      "(44, 6)\n"
     ]
    },
    {
     "name": "stderr",
     "output_type": "stream",
     "text": [
      "100%|██████████| 44/44 [00:04<00:00, 10.53it/s]\n"
     ]
    }
   ],
   "source": [
    "n_clusters = [16, 8, 4]\n",
    "\n",
    "for project in df['project'].unique():\n",
    "    print(project)\n",
    "    df_sub = df[df['project'] == project]\n",
    "    print(df_sub.shape)\n",
    "    processed_data = process_data_multithreaded(df_sub, n_clusters, max_threads=5)\n",
    "    processed_data = pd.DataFrame(processed_data)\n",
    "    processed_data.to_csv(os.path.join('/bask/homes/a/asiw9691/PathVLM/WSI_Dataset/Conch_CC', '{}_cc.csv'.format(project)), index=False)"
   ]
  },
  {
   "cell_type": "code",
   "execution_count": 7,
   "id": "604d2f19-25b4-4391-badd-e1dbe48356ac",
   "metadata": {},
   "outputs": [
    {
     "data": {
      "text/html": [
       "<div>\n",
       "<style scoped>\n",
       "    .dataframe tbody tr th:only-of-type {\n",
       "        vertical-align: middle;\n",
       "    }\n",
       "\n",
       "    .dataframe tbody tr th {\n",
       "        vertical-align: top;\n",
       "    }\n",
       "\n",
       "    .dataframe thead th {\n",
       "        text-align: right;\n",
       "    }\n",
       "</style>\n",
       "<table border=\"1\" class=\"dataframe\">\n",
       "  <thead>\n",
       "    <tr style=\"text-align: right;\">\n",
       "      <th></th>\n",
       "      <th>f1024_cc</th>\n",
       "      <th>f2048_cc</th>\n",
       "      <th>f4096_cc</th>\n",
       "      <th>slide_id</th>\n",
       "      <th>project</th>\n",
       "    </tr>\n",
       "  </thead>\n",
       "  <tbody>\n",
       "    <tr>\n",
       "      <th>0</th>\n",
       "      <td>17409_30721_1024.png,11265_22529_1024.png,4198...</td>\n",
       "      <td>8193_14337_2048.png,6145_8193_2048.png,24577_1...</td>\n",
       "      <td>24577_8193_4096.png,12289_24577_4096.png,4097_...</td>\n",
       "      <td>TCGA-FF-8041-01Z-00-DX1</td>\n",
       "      <td>TCGA-DLBC</td>\n",
       "    </tr>\n",
       "    <tr>\n",
       "      <th>1</th>\n",
       "      <td>39937_79873_1024.png,49153_46081_1024.png,2355...</td>\n",
       "      <td>26625_71681_2048.png,63489_63489_2048.png,4505...</td>\n",
       "      <td>12289_12289_4096.png,45057_61441_4096.png,2457...</td>\n",
       "      <td>TCGA-GS-A9TZ-01Z-00-DX1</td>\n",
       "      <td>TCGA-DLBC</td>\n",
       "    </tr>\n",
       "    <tr>\n",
       "      <th>2</th>\n",
       "      <td>69633_59393_1024.png,99329_77825_1024.png,1136...</td>\n",
       "      <td>63489_47105_2048.png,126977_32769_2048.png,983...</td>\n",
       "      <td>163841_36865_4096.png,36865_45057_4096.png,614...</td>\n",
       "      <td>TCGA-G8-6326-01Z-00-DX1</td>\n",
       "      <td>TCGA-DLBC</td>\n",
       "    </tr>\n",
       "    <tr>\n",
       "      <th>3</th>\n",
       "      <td>13313_33793_1024.png,12289_31745_1024.png,5017...</td>\n",
       "      <td>12289_32769_2048.png,12289_30721_2048.png,1228...</td>\n",
       "      <td></td>\n",
       "      <td>TCGA-FF-8062-01Z-00-DX1</td>\n",
       "      <td>TCGA-DLBC</td>\n",
       "    </tr>\n",
       "    <tr>\n",
       "      <th>4</th>\n",
       "      <td>60417_12289_1024.png,9217_27649_1024.png,28673...</td>\n",
       "      <td>24577_6145_2048.png,8193_24577_2048.png,55297_...</td>\n",
       "      <td>69633_28673_4096.png,86017_16385_4096.png,8193...</td>\n",
       "      <td>TCGA-RQ-AAAT-01Z-00-DX1</td>\n",
       "      <td>TCGA-DLBC</td>\n",
       "    </tr>\n",
       "    <tr>\n",
       "      <th>5</th>\n",
       "      <td>133121_31745_1024.png,51201_60417_1024.png,113...</td>\n",
       "      <td>143361_55297_2048.png,139265_20481_2048.png,13...</td>\n",
       "      <td>32769_32769_4096.png,131073_61441_4096.png,147...</td>\n",
       "      <td>TCGA-G8-6325-01Z-00-DX1</td>\n",
       "      <td>TCGA-DLBC</td>\n",
       "    </tr>\n",
       "    <tr>\n",
       "      <th>6</th>\n",
       "      <td>74753_76801_1024.png,102401_54273_1024.png,460...</td>\n",
       "      <td>71681_65537_2048.png,69633_30721_2048.png,1024...</td>\n",
       "      <td>65537_73729_4096.png,32769_40961_4096.png,4097...</td>\n",
       "      <td>TCGA-FA-A4XK-01Z-00-DX1</td>\n",
       "      <td>TCGA-DLBC</td>\n",
       "    </tr>\n",
       "    <tr>\n",
       "      <th>7</th>\n",
       "      <td>21505_27649_1024.png,99329_19457_1024.png,9318...</td>\n",
       "      <td>114689_26625_2048.png,12289_24577_2048.png,921...</td>\n",
       "      <td>20481_16385_4096.png,98305_20481_4096.png,1228...</td>\n",
       "      <td>TCGA-GS-A9TV-01Z-00-DX1</td>\n",
       "      <td>TCGA-DLBC</td>\n",
       "    </tr>\n",
       "    <tr>\n",
       "      <th>8</th>\n",
       "      <td>51201_8193_1024.png,86017_51201_1024.png,78849...</td>\n",
       "      <td>51201_22529_2048.png,6145_14337_2048.png,83969...</td>\n",
       "      <td>32769_16385_4096.png,69633_4097_4096.png,57345...</td>\n",
       "      <td>TCGA-FF-8042-01Z-00-DX1</td>\n",
       "      <td>TCGA-DLBC</td>\n",
       "    </tr>\n",
       "    <tr>\n",
       "      <th>9</th>\n",
       "      <td>12289_29697_1024.png,99329_30721_1024.png,8601...</td>\n",
       "      <td>92161_40961_2048.png,14337_57345_2048.png,1003...</td>\n",
       "      <td>90113_49153_4096.png,8193_57345_4096.png,86017...</td>\n",
       "      <td>TCGA-G8-6907-01Z-00-DX1</td>\n",
       "      <td>TCGA-DLBC</td>\n",
       "    </tr>\n",
       "    <tr>\n",
       "      <th>10</th>\n",
       "      <td>130049_43009_1024.png,19457_10241_1024.png,133...</td>\n",
       "      <td>149505_36865_2048.png,147457_18433_2048.png,32...</td>\n",
       "      <td>8193_45057_4096.png,118785_36865_4096.png,1310...</td>\n",
       "      <td>TCGA-G8-6906-01Z-00-DX1</td>\n",
       "      <td>TCGA-DLBC</td>\n",
       "    </tr>\n",
       "    <tr>\n",
       "      <th>11</th>\n",
       "      <td>30721_28673_1024.png,52225_56321_1024.png,5324...</td>\n",
       "      <td>43009_43009_2048.png,6145_49153_2048.png,43009...</td>\n",
       "      <td>24577_24577_4096.png,40961_45057_4096.png,5734...</td>\n",
       "      <td>TCGA-FA-A86F-01Z-00-DX1</td>\n",
       "      <td>TCGA-DLBC</td>\n",
       "    </tr>\n",
       "    <tr>\n",
       "      <th>12</th>\n",
       "      <td>20481_15361_1024.png,8193_28673_1024.png,14337...</td>\n",
       "      <td>65537_22529_2048.png,22529_20481_2048.png,1413...</td>\n",
       "      <td>32769_20481_4096.png,98305_32769_4096.png,1146...</td>\n",
       "      <td>TCGA-G8-6324-01Z-00-DX1</td>\n",
       "      <td>TCGA-DLBC</td>\n",
       "    </tr>\n",
       "    <tr>\n",
       "      <th>13</th>\n",
       "      <td>49153_20481_1024.png,57345_29697_1024.png,6860...</td>\n",
       "      <td>71681_26625_2048.png,30721_20481_2048.png,7987...</td>\n",
       "      <td>40961_32769_4096.png,57345_16385_4096.png,6553...</td>\n",
       "      <td>TCGA-FA-A4BB-01Z-00-DX1</td>\n",
       "      <td>TCGA-DLBC</td>\n",
       "    </tr>\n",
       "    <tr>\n",
       "      <th>14</th>\n",
       "      <td>26625_8193_1024.png,21505_78849_1024.png,54273...</td>\n",
       "      <td>10241_30721_2048.png,10241_55297_2048.png,5324...</td>\n",
       "      <td>53249_20481_4096.png,24577_69633_4096.png,2457...</td>\n",
       "      <td>TCGA-FA-A7DS-01Z-00-DX1</td>\n",
       "      <td>TCGA-DLBC</td>\n",
       "    </tr>\n",
       "    <tr>\n",
       "      <th>15</th>\n",
       "      <td>66561_25601_1024.png,36865_43009_1024.png,7270...</td>\n",
       "      <td>20481_45057_2048.png,71681_16385_2048.png,7577...</td>\n",
       "      <td>32769_20481_4096.png,61441_28673_4096.png,3686...</td>\n",
       "      <td>TCGA-GS-A9TT-01Z-00-DX1</td>\n",
       "      <td>TCGA-DLBC</td>\n",
       "    </tr>\n",
       "    <tr>\n",
       "      <th>16</th>\n",
       "      <td>46081_19457_1024.png,30721_36865_1024.png,6963...</td>\n",
       "      <td>63489_51201_2048.png,69633_36865_2048.png,7782...</td>\n",
       "      <td>45057_20481_4096.png,81921_20481_4096.png,3276...</td>\n",
       "      <td>TCGA-FF-8043-01Z-00-DX1</td>\n",
       "      <td>TCGA-DLBC</td>\n",
       "    </tr>\n",
       "    <tr>\n",
       "      <th>17</th>\n",
       "      <td>19457_31745_1024.png,65537_32769_1024.png,1024...</td>\n",
       "      <td>14337_47105_2048.png,12289_38913_2048.png,6144...</td>\n",
       "      <td>45057_32769_4096.png,65537_24577_4096.png,8192...</td>\n",
       "      <td>TCGA-GS-A9TU-01Z-00-DX1</td>\n",
       "      <td>TCGA-DLBC</td>\n",
       "    </tr>\n",
       "    <tr>\n",
       "      <th>18</th>\n",
       "      <td>17409_20481_1024.png,29697_60417_1024.png,5734...</td>\n",
       "      <td>30721_34817_2048.png,57345_45057_2048.png,1433...</td>\n",
       "      <td>24577_16385_4096.png,53249_49153_4096.png,4096...</td>\n",
       "      <td>TCGA-GS-A9U3-01Z-00-DX1</td>\n",
       "      <td>TCGA-DLBC</td>\n",
       "    </tr>\n",
       "    <tr>\n",
       "      <th>19</th>\n",
       "      <td>28673_7169_1024.png,15361_10241_1024.png,47105...</td>\n",
       "      <td>24577_6145_2048.png,40961_12289_2048.png,40961...</td>\n",
       "      <td>20481_1_4096.png,36865_4097_4096.png,12289_819...</td>\n",
       "      <td>TCGA-FM-8000-01Z-00-DX1</td>\n",
       "      <td>TCGA-DLBC</td>\n",
       "    </tr>\n",
       "    <tr>\n",
       "      <th>20</th>\n",
       "      <td>22529_16385_1024.png,106497_41985_1024.png,378...</td>\n",
       "      <td>10241_24577_2048.png,32769_10241_2048.png,1843...</td>\n",
       "      <td>24577_8193_4096.png,102401_16385_4096.png,9830...</td>\n",
       "      <td>TCGA-G8-6909-01Z-00-DX1</td>\n",
       "      <td>TCGA-DLBC</td>\n",
       "    </tr>\n",
       "    <tr>\n",
       "      <th>21</th>\n",
       "      <td>9217_14337_512.png,22529_13825_512.png,23041_1...</td>\n",
       "      <td>3073_27649_1024.png,17409_12289_1024.png,25601...</td>\n",
       "      <td>12289_12289_2048.png,10241_24577_2048.png,8193...</td>\n",
       "      <td>TCGA-GR-7351-01Z-00-DX1</td>\n",
       "      <td>TCGA-DLBC</td>\n",
       "    </tr>\n",
       "    <tr>\n",
       "      <th>22</th>\n",
       "      <td>15361_25601_512.png,24065_19969_512.png,17921_...</td>\n",
       "      <td>22529_27649_1024.png,14337_16385_1024.png,2252...</td>\n",
       "      <td>14337_24577_2048.png,10241_24577_2048.png,8193...</td>\n",
       "      <td>TCGA-GR-A4D4-01Z-00-DX1</td>\n",
       "      <td>TCGA-DLBC</td>\n",
       "    </tr>\n",
       "    <tr>\n",
       "      <th>23</th>\n",
       "      <td>43009_8193_1024.png,23553_28673_1024.png,20481...</td>\n",
       "      <td>71681_16385_2048.png,30721_26625_2048.png,2457...</td>\n",
       "      <td>12289_24577_4096.png,28673_24577_4096.png,1228...</td>\n",
       "      <td>TCGA-GS-A9TY-01Z-00-DX1</td>\n",
       "      <td>TCGA-DLBC</td>\n",
       "    </tr>\n",
       "    <tr>\n",
       "      <th>24</th>\n",
       "      <td>35841_36865_1024.png,48129_9217_1024.png,7169_...</td>\n",
       "      <td>30721_43009_2048.png,51201_38913_2048.png,1228...</td>\n",
       "      <td>8193_36865_4096.png,45057_20481_4096.png,12289...</td>\n",
       "      <td>TCGA-RQ-A68N-01Z-00-DX1</td>\n",
       "      <td>TCGA-DLBC</td>\n",
       "    </tr>\n",
       "    <tr>\n",
       "      <th>25</th>\n",
       "      <td>51201_15361_1024.png,67585_34817_1024.png,5222...</td>\n",
       "      <td>49153_16385_2048.png,71681_38913_2048.png,1638...</td>\n",
       "      <td>32769_16385_4096.png,69633_32769_4096.png,8193...</td>\n",
       "      <td>TCGA-FF-8046-01Z-00-DX1</td>\n",
       "      <td>TCGA-DLBC</td>\n",
       "    </tr>\n",
       "    <tr>\n",
       "      <th>26</th>\n",
       "      <td>12289_53249_1024.png,23553_38913_1024.png,6041...</td>\n",
       "      <td>30721_63489_2048.png,139265_36865_2048.png,983...</td>\n",
       "      <td>36865_45057_4096.png,69633_40961_4096.png,2867...</td>\n",
       "      <td>TCGA-VB-A8QN-01Z-00-DX1</td>\n",
       "      <td>TCGA-DLBC</td>\n",
       "    </tr>\n",
       "    <tr>\n",
       "      <th>27</th>\n",
       "      <td>33793_41985_1024.png,35841_39937_1024.png,4915...</td>\n",
       "      <td>71681_24577_2048.png,10241_6145_2048.png,16385...</td>\n",
       "      <td>28673_40961_4096.png,12289_16385_4096.png,4096...</td>\n",
       "      <td>TCGA-FF-8047-01Z-00-DX1</td>\n",
       "      <td>TCGA-DLBC</td>\n",
       "    </tr>\n",
       "    <tr>\n",
       "      <th>28</th>\n",
       "      <td>16385_20481_1024.png,19457_34817_1024.png,1228...</td>\n",
       "      <td>22529_38913_2048.png,36865_30721_2048.png,8193...</td>\n",
       "      <td>20481_20481_4096.png,40961_16385_4096.png,4097...</td>\n",
       "      <td>TCGA-FA-A6HO-01Z-00-DX1</td>\n",
       "      <td>TCGA-DLBC</td>\n",
       "    </tr>\n",
       "    <tr>\n",
       "      <th>29</th>\n",
       "      <td>7169_17409_1024.png,43009_49153_1024.png,29697...</td>\n",
       "      <td>47105_67585_2048.png,16385_18433_2048.png,6144...</td>\n",
       "      <td>12289_49153_4096.png,16385_12289_4096.png,4096...</td>\n",
       "      <td>TCGA-GS-A9TX-01Z-00-DX1</td>\n",
       "      <td>TCGA-DLBC</td>\n",
       "    </tr>\n",
       "    <tr>\n",
       "      <th>30</th>\n",
       "      <td>4609_14849_512.png,18945_9217_512.png,11265_15...</td>\n",
       "      <td>18433_21505_1024.png,21505_13313_1024.png,1228...</td>\n",
       "      <td>18433_14337_2048.png,26625_20481_2048.png,1433...</td>\n",
       "      <td>TCGA-GR-7353-01Z-00-DX1</td>\n",
       "      <td>TCGA-DLBC</td>\n",
       "    </tr>\n",
       "    <tr>\n",
       "      <th>31</th>\n",
       "      <td>9217_15361_1024.png,30721_6145_1024.png,26625_...</td>\n",
       "      <td>26625_32769_2048.png,10241_4097_2048.png,22529...</td>\n",
       "      <td>20481_4097_4096.png,24577_16385_4096.png,20481...</td>\n",
       "      <td>TCGA-FA-A6HN-01Z-00-DX1</td>\n",
       "      <td>TCGA-DLBC</td>\n",
       "    </tr>\n",
       "    <tr>\n",
       "      <th>32</th>\n",
       "      <td>32769_37889_1024.png,35841_20481_1024.png,7987...</td>\n",
       "      <td>55297_20481_2048.png,98305_45057_2048.png,1761...</td>\n",
       "      <td>40961_20481_4096.png,176129_16385_4096.png,106...</td>\n",
       "      <td>TCGA-GS-A9TW-01Z-00-DX1</td>\n",
       "      <td>TCGA-DLBC</td>\n",
       "    </tr>\n",
       "    <tr>\n",
       "      <th>33</th>\n",
       "      <td>65537_64513_1024.png,69633_2049_1024.png,66561...</td>\n",
       "      <td>92161_57345_2048.png,24577_30721_2048.png,5939...</td>\n",
       "      <td>53249_16385_4096.png,106497_57345_4096.png,983...</td>\n",
       "      <td>TCGA-RQ-A6JB-01Z-00-DX1</td>\n",
       "      <td>TCGA-DLBC</td>\n",
       "    </tr>\n",
       "    <tr>\n",
       "      <th>34</th>\n",
       "      <td>34817_2049_512.png,32769_18433_512.png,4097_13...</td>\n",
       "      <td>35841_25601_1024.png,38913_28673_1024.png,5121...</td>\n",
       "      <td>12289_24577_2048.png,32769_2049_2048.png,30721...</td>\n",
       "      <td>TCGA-GR-A4D6-01Z-00-DX1</td>\n",
       "      <td>TCGA-DLBC</td>\n",
       "    </tr>\n",
       "    <tr>\n",
       "      <th>35</th>\n",
       "      <td>15873_34817_512.png,20481_11777_512.png,25601_...</td>\n",
       "      <td>19457_11265_1024.png,15361_40961_1024.png,5121...</td>\n",
       "      <td>18433_32769_2048.png,14337_20481_2048.png,6145...</td>\n",
       "      <td>TCGA-GR-A4D5-01Z-00-DX1</td>\n",
       "      <td>TCGA-DLBC</td>\n",
       "    </tr>\n",
       "    <tr>\n",
       "      <th>36</th>\n",
       "      <td>19969_26113_512.png,19969_20481_512.png,9217_1...</td>\n",
       "      <td>23553_5121_1024.png,22529_21505_1024.png,9217_...</td>\n",
       "      <td>16385_26625_2048.png,12289_2049_2048.png,14337...</td>\n",
       "      <td>TCGA-GR-A4D9-01Z-00-DX1</td>\n",
       "      <td>TCGA-DLBC</td>\n",
       "    </tr>\n",
       "    <tr>\n",
       "      <th>37</th>\n",
       "      <td>15361_15361_1024.png,28673_19457_1024.png,3788...</td>\n",
       "      <td>20481_6145_2048.png,20481_4097_2048.png,36865_...</td>\n",
       "      <td>16385_12289_4096.png,20481_20481_4096.png,8193...</td>\n",
       "      <td>TCGA-FA-A7Q1-01Z-00-DX1</td>\n",
       "      <td>TCGA-DLBC</td>\n",
       "    </tr>\n",
       "    <tr>\n",
       "      <th>38</th>\n",
       "      <td>25601_40961_1024.png,38913_28673_1024.png,3174...</td>\n",
       "      <td>38913_10241_2048.png,49153_22529_2048.png,1228...</td>\n",
       "      <td>32769_4097_4096.png,40961_20481_4096.png,16385...</td>\n",
       "      <td>TCGA-GS-A9U4-01Z-00-DX1</td>\n",
       "      <td>TCGA-DLBC</td>\n",
       "    </tr>\n",
       "    <tr>\n",
       "      <th>39</th>\n",
       "      <td>100353_14337_1024.png,90113_13313_1024.png,348...</td>\n",
       "      <td>24577_51201_2048.png,86017_22529_2048.png,3481...</td>\n",
       "      <td>90113_53249_4096.png,32769_45057_4096.png,7782...</td>\n",
       "      <td>TCGA-G8-6914-01Z-00-DX1</td>\n",
       "      <td>TCGA-DLBC</td>\n",
       "    </tr>\n",
       "    <tr>\n",
       "      <th>40</th>\n",
       "      <td>45057_13313_1024.png,102401_28673_1024.png,419...</td>\n",
       "      <td>10241_24577_2048.png,73729_10241_2048.png,1638...</td>\n",
       "      <td>36865_20481_4096.png,94209_36865_4096.png,5324...</td>\n",
       "      <td>TCGA-FA-8693-01Z-00-DX1</td>\n",
       "      <td>TCGA-DLBC</td>\n",
       "    </tr>\n",
       "    <tr>\n",
       "      <th>41</th>\n",
       "      <td>27649_34817_1024.png,47105_41985_1024.png,4915...</td>\n",
       "      <td>47105_12289_2048.png,28673_49153_2048.png,4505...</td>\n",
       "      <td>36865_24577_4096.png,20481_8193_4096.png,12289...</td>\n",
       "      <td>TCGA-GS-A9TQ-01Z-00-DX1</td>\n",
       "      <td>TCGA-DLBC</td>\n",
       "    </tr>\n",
       "    <tr>\n",
       "      <th>42</th>\n",
       "      <td>65537_26625_1024.png,51201_29697_1024.png,1013...</td>\n",
       "      <td>88065_32769_2048.png,110593_55297_2048.png,110...</td>\n",
       "      <td>94209_28673_4096.png,8193_45057_4096.png,45057...</td>\n",
       "      <td>TCGA-FA-A82F-01Z-00-DX1</td>\n",
       "      <td>TCGA-DLBC</td>\n",
       "    </tr>\n",
       "    <tr>\n",
       "      <th>43</th>\n",
       "      <td>47105_52225_1024.png,27649_71681_1024.png,4608...</td>\n",
       "      <td>32769_18433_2048.png,28673_51201_2048.png,4300...</td>\n",
       "      <td>65537_69633_4096.png,8193_1_4096.png,65537_573...</td>\n",
       "      <td>TCGA-FF-8061-01Z-00-DX1</td>\n",
       "      <td>TCGA-DLBC</td>\n",
       "    </tr>\n",
       "  </tbody>\n",
       "</table>\n",
       "</div>"
      ],
      "text/plain": [
       "                                             f1024_cc  \\\n",
       "0   17409_30721_1024.png,11265_22529_1024.png,4198...   \n",
       "1   39937_79873_1024.png,49153_46081_1024.png,2355...   \n",
       "2   69633_59393_1024.png,99329_77825_1024.png,1136...   \n",
       "3   13313_33793_1024.png,12289_31745_1024.png,5017...   \n",
       "4   60417_12289_1024.png,9217_27649_1024.png,28673...   \n",
       "5   133121_31745_1024.png,51201_60417_1024.png,113...   \n",
       "6   74753_76801_1024.png,102401_54273_1024.png,460...   \n",
       "7   21505_27649_1024.png,99329_19457_1024.png,9318...   \n",
       "8   51201_8193_1024.png,86017_51201_1024.png,78849...   \n",
       "9   12289_29697_1024.png,99329_30721_1024.png,8601...   \n",
       "10  130049_43009_1024.png,19457_10241_1024.png,133...   \n",
       "11  30721_28673_1024.png,52225_56321_1024.png,5324...   \n",
       "12  20481_15361_1024.png,8193_28673_1024.png,14337...   \n",
       "13  49153_20481_1024.png,57345_29697_1024.png,6860...   \n",
       "14  26625_8193_1024.png,21505_78849_1024.png,54273...   \n",
       "15  66561_25601_1024.png,36865_43009_1024.png,7270...   \n",
       "16  46081_19457_1024.png,30721_36865_1024.png,6963...   \n",
       "17  19457_31745_1024.png,65537_32769_1024.png,1024...   \n",
       "18  17409_20481_1024.png,29697_60417_1024.png,5734...   \n",
       "19  28673_7169_1024.png,15361_10241_1024.png,47105...   \n",
       "20  22529_16385_1024.png,106497_41985_1024.png,378...   \n",
       "21  9217_14337_512.png,22529_13825_512.png,23041_1...   \n",
       "22  15361_25601_512.png,24065_19969_512.png,17921_...   \n",
       "23  43009_8193_1024.png,23553_28673_1024.png,20481...   \n",
       "24  35841_36865_1024.png,48129_9217_1024.png,7169_...   \n",
       "25  51201_15361_1024.png,67585_34817_1024.png,5222...   \n",
       "26  12289_53249_1024.png,23553_38913_1024.png,6041...   \n",
       "27  33793_41985_1024.png,35841_39937_1024.png,4915...   \n",
       "28  16385_20481_1024.png,19457_34817_1024.png,1228...   \n",
       "29  7169_17409_1024.png,43009_49153_1024.png,29697...   \n",
       "30  4609_14849_512.png,18945_9217_512.png,11265_15...   \n",
       "31  9217_15361_1024.png,30721_6145_1024.png,26625_...   \n",
       "32  32769_37889_1024.png,35841_20481_1024.png,7987...   \n",
       "33  65537_64513_1024.png,69633_2049_1024.png,66561...   \n",
       "34  34817_2049_512.png,32769_18433_512.png,4097_13...   \n",
       "35  15873_34817_512.png,20481_11777_512.png,25601_...   \n",
       "36  19969_26113_512.png,19969_20481_512.png,9217_1...   \n",
       "37  15361_15361_1024.png,28673_19457_1024.png,3788...   \n",
       "38  25601_40961_1024.png,38913_28673_1024.png,3174...   \n",
       "39  100353_14337_1024.png,90113_13313_1024.png,348...   \n",
       "40  45057_13313_1024.png,102401_28673_1024.png,419...   \n",
       "41  27649_34817_1024.png,47105_41985_1024.png,4915...   \n",
       "42  65537_26625_1024.png,51201_29697_1024.png,1013...   \n",
       "43  47105_52225_1024.png,27649_71681_1024.png,4608...   \n",
       "\n",
       "                                             f2048_cc  \\\n",
       "0   8193_14337_2048.png,6145_8193_2048.png,24577_1...   \n",
       "1   26625_71681_2048.png,63489_63489_2048.png,4505...   \n",
       "2   63489_47105_2048.png,126977_32769_2048.png,983...   \n",
       "3   12289_32769_2048.png,12289_30721_2048.png,1228...   \n",
       "4   24577_6145_2048.png,8193_24577_2048.png,55297_...   \n",
       "5   143361_55297_2048.png,139265_20481_2048.png,13...   \n",
       "6   71681_65537_2048.png,69633_30721_2048.png,1024...   \n",
       "7   114689_26625_2048.png,12289_24577_2048.png,921...   \n",
       "8   51201_22529_2048.png,6145_14337_2048.png,83969...   \n",
       "9   92161_40961_2048.png,14337_57345_2048.png,1003...   \n",
       "10  149505_36865_2048.png,147457_18433_2048.png,32...   \n",
       "11  43009_43009_2048.png,6145_49153_2048.png,43009...   \n",
       "12  65537_22529_2048.png,22529_20481_2048.png,1413...   \n",
       "13  71681_26625_2048.png,30721_20481_2048.png,7987...   \n",
       "14  10241_30721_2048.png,10241_55297_2048.png,5324...   \n",
       "15  20481_45057_2048.png,71681_16385_2048.png,7577...   \n",
       "16  63489_51201_2048.png,69633_36865_2048.png,7782...   \n",
       "17  14337_47105_2048.png,12289_38913_2048.png,6144...   \n",
       "18  30721_34817_2048.png,57345_45057_2048.png,1433...   \n",
       "19  24577_6145_2048.png,40961_12289_2048.png,40961...   \n",
       "20  10241_24577_2048.png,32769_10241_2048.png,1843...   \n",
       "21  3073_27649_1024.png,17409_12289_1024.png,25601...   \n",
       "22  22529_27649_1024.png,14337_16385_1024.png,2252...   \n",
       "23  71681_16385_2048.png,30721_26625_2048.png,2457...   \n",
       "24  30721_43009_2048.png,51201_38913_2048.png,1228...   \n",
       "25  49153_16385_2048.png,71681_38913_2048.png,1638...   \n",
       "26  30721_63489_2048.png,139265_36865_2048.png,983...   \n",
       "27  71681_24577_2048.png,10241_6145_2048.png,16385...   \n",
       "28  22529_38913_2048.png,36865_30721_2048.png,8193...   \n",
       "29  47105_67585_2048.png,16385_18433_2048.png,6144...   \n",
       "30  18433_21505_1024.png,21505_13313_1024.png,1228...   \n",
       "31  26625_32769_2048.png,10241_4097_2048.png,22529...   \n",
       "32  55297_20481_2048.png,98305_45057_2048.png,1761...   \n",
       "33  92161_57345_2048.png,24577_30721_2048.png,5939...   \n",
       "34  35841_25601_1024.png,38913_28673_1024.png,5121...   \n",
       "35  19457_11265_1024.png,15361_40961_1024.png,5121...   \n",
       "36  23553_5121_1024.png,22529_21505_1024.png,9217_...   \n",
       "37  20481_6145_2048.png,20481_4097_2048.png,36865_...   \n",
       "38  38913_10241_2048.png,49153_22529_2048.png,1228...   \n",
       "39  24577_51201_2048.png,86017_22529_2048.png,3481...   \n",
       "40  10241_24577_2048.png,73729_10241_2048.png,1638...   \n",
       "41  47105_12289_2048.png,28673_49153_2048.png,4505...   \n",
       "42  88065_32769_2048.png,110593_55297_2048.png,110...   \n",
       "43  32769_18433_2048.png,28673_51201_2048.png,4300...   \n",
       "\n",
       "                                             f4096_cc  \\\n",
       "0   24577_8193_4096.png,12289_24577_4096.png,4097_...   \n",
       "1   12289_12289_4096.png,45057_61441_4096.png,2457...   \n",
       "2   163841_36865_4096.png,36865_45057_4096.png,614...   \n",
       "3                                                       \n",
       "4   69633_28673_4096.png,86017_16385_4096.png,8193...   \n",
       "5   32769_32769_4096.png,131073_61441_4096.png,147...   \n",
       "6   65537_73729_4096.png,32769_40961_4096.png,4097...   \n",
       "7   20481_16385_4096.png,98305_20481_4096.png,1228...   \n",
       "8   32769_16385_4096.png,69633_4097_4096.png,57345...   \n",
       "9   90113_49153_4096.png,8193_57345_4096.png,86017...   \n",
       "10  8193_45057_4096.png,118785_36865_4096.png,1310...   \n",
       "11  24577_24577_4096.png,40961_45057_4096.png,5734...   \n",
       "12  32769_20481_4096.png,98305_32769_4096.png,1146...   \n",
       "13  40961_32769_4096.png,57345_16385_4096.png,6553...   \n",
       "14  53249_20481_4096.png,24577_69633_4096.png,2457...   \n",
       "15  32769_20481_4096.png,61441_28673_4096.png,3686...   \n",
       "16  45057_20481_4096.png,81921_20481_4096.png,3276...   \n",
       "17  45057_32769_4096.png,65537_24577_4096.png,8192...   \n",
       "18  24577_16385_4096.png,53249_49153_4096.png,4096...   \n",
       "19  20481_1_4096.png,36865_4097_4096.png,12289_819...   \n",
       "20  24577_8193_4096.png,102401_16385_4096.png,9830...   \n",
       "21  12289_12289_2048.png,10241_24577_2048.png,8193...   \n",
       "22  14337_24577_2048.png,10241_24577_2048.png,8193...   \n",
       "23  12289_24577_4096.png,28673_24577_4096.png,1228...   \n",
       "24  8193_36865_4096.png,45057_20481_4096.png,12289...   \n",
       "25  32769_16385_4096.png,69633_32769_4096.png,8193...   \n",
       "26  36865_45057_4096.png,69633_40961_4096.png,2867...   \n",
       "27  28673_40961_4096.png,12289_16385_4096.png,4096...   \n",
       "28  20481_20481_4096.png,40961_16385_4096.png,4097...   \n",
       "29  12289_49153_4096.png,16385_12289_4096.png,4096...   \n",
       "30  18433_14337_2048.png,26625_20481_2048.png,1433...   \n",
       "31  20481_4097_4096.png,24577_16385_4096.png,20481...   \n",
       "32  40961_20481_4096.png,176129_16385_4096.png,106...   \n",
       "33  53249_16385_4096.png,106497_57345_4096.png,983...   \n",
       "34  12289_24577_2048.png,32769_2049_2048.png,30721...   \n",
       "35  18433_32769_2048.png,14337_20481_2048.png,6145...   \n",
       "36  16385_26625_2048.png,12289_2049_2048.png,14337...   \n",
       "37  16385_12289_4096.png,20481_20481_4096.png,8193...   \n",
       "38  32769_4097_4096.png,40961_20481_4096.png,16385...   \n",
       "39  90113_53249_4096.png,32769_45057_4096.png,7782...   \n",
       "40  36865_20481_4096.png,94209_36865_4096.png,5324...   \n",
       "41  36865_24577_4096.png,20481_8193_4096.png,12289...   \n",
       "42  94209_28673_4096.png,8193_45057_4096.png,45057...   \n",
       "43  65537_69633_4096.png,8193_1_4096.png,65537_573...   \n",
       "\n",
       "                   slide_id    project  \n",
       "0   TCGA-FF-8041-01Z-00-DX1  TCGA-DLBC  \n",
       "1   TCGA-GS-A9TZ-01Z-00-DX1  TCGA-DLBC  \n",
       "2   TCGA-G8-6326-01Z-00-DX1  TCGA-DLBC  \n",
       "3   TCGA-FF-8062-01Z-00-DX1  TCGA-DLBC  \n",
       "4   TCGA-RQ-AAAT-01Z-00-DX1  TCGA-DLBC  \n",
       "5   TCGA-G8-6325-01Z-00-DX1  TCGA-DLBC  \n",
       "6   TCGA-FA-A4XK-01Z-00-DX1  TCGA-DLBC  \n",
       "7   TCGA-GS-A9TV-01Z-00-DX1  TCGA-DLBC  \n",
       "8   TCGA-FF-8042-01Z-00-DX1  TCGA-DLBC  \n",
       "9   TCGA-G8-6907-01Z-00-DX1  TCGA-DLBC  \n",
       "10  TCGA-G8-6906-01Z-00-DX1  TCGA-DLBC  \n",
       "11  TCGA-FA-A86F-01Z-00-DX1  TCGA-DLBC  \n",
       "12  TCGA-G8-6324-01Z-00-DX1  TCGA-DLBC  \n",
       "13  TCGA-FA-A4BB-01Z-00-DX1  TCGA-DLBC  \n",
       "14  TCGA-FA-A7DS-01Z-00-DX1  TCGA-DLBC  \n",
       "15  TCGA-GS-A9TT-01Z-00-DX1  TCGA-DLBC  \n",
       "16  TCGA-FF-8043-01Z-00-DX1  TCGA-DLBC  \n",
       "17  TCGA-GS-A9TU-01Z-00-DX1  TCGA-DLBC  \n",
       "18  TCGA-GS-A9U3-01Z-00-DX1  TCGA-DLBC  \n",
       "19  TCGA-FM-8000-01Z-00-DX1  TCGA-DLBC  \n",
       "20  TCGA-G8-6909-01Z-00-DX1  TCGA-DLBC  \n",
       "21  TCGA-GR-7351-01Z-00-DX1  TCGA-DLBC  \n",
       "22  TCGA-GR-A4D4-01Z-00-DX1  TCGA-DLBC  \n",
       "23  TCGA-GS-A9TY-01Z-00-DX1  TCGA-DLBC  \n",
       "24  TCGA-RQ-A68N-01Z-00-DX1  TCGA-DLBC  \n",
       "25  TCGA-FF-8046-01Z-00-DX1  TCGA-DLBC  \n",
       "26  TCGA-VB-A8QN-01Z-00-DX1  TCGA-DLBC  \n",
       "27  TCGA-FF-8047-01Z-00-DX1  TCGA-DLBC  \n",
       "28  TCGA-FA-A6HO-01Z-00-DX1  TCGA-DLBC  \n",
       "29  TCGA-GS-A9TX-01Z-00-DX1  TCGA-DLBC  \n",
       "30  TCGA-GR-7353-01Z-00-DX1  TCGA-DLBC  \n",
       "31  TCGA-FA-A6HN-01Z-00-DX1  TCGA-DLBC  \n",
       "32  TCGA-GS-A9TW-01Z-00-DX1  TCGA-DLBC  \n",
       "33  TCGA-RQ-A6JB-01Z-00-DX1  TCGA-DLBC  \n",
       "34  TCGA-GR-A4D6-01Z-00-DX1  TCGA-DLBC  \n",
       "35  TCGA-GR-A4D5-01Z-00-DX1  TCGA-DLBC  \n",
       "36  TCGA-GR-A4D9-01Z-00-DX1  TCGA-DLBC  \n",
       "37  TCGA-FA-A7Q1-01Z-00-DX1  TCGA-DLBC  \n",
       "38  TCGA-GS-A9U4-01Z-00-DX1  TCGA-DLBC  \n",
       "39  TCGA-G8-6914-01Z-00-DX1  TCGA-DLBC  \n",
       "40  TCGA-FA-8693-01Z-00-DX1  TCGA-DLBC  \n",
       "41  TCGA-GS-A9TQ-01Z-00-DX1  TCGA-DLBC  \n",
       "42  TCGA-FA-A82F-01Z-00-DX1  TCGA-DLBC  \n",
       "43  TCGA-FF-8061-01Z-00-DX1  TCGA-DLBC  "
      ]
     },
     "execution_count": 7,
     "metadata": {},
     "output_type": "execute_result"
    }
   ],
   "source": [
    "processed_data"
   ]
  },
  {
   "cell_type": "code",
   "execution_count": null,
   "id": "7ac75e55-284e-457e-9abe-2626106ab736",
   "metadata": {},
   "outputs": [],
   "source": []
  }
 ],
 "metadata": {
  "kernelspec": {
   "display_name": "asiw9691_conda_env (Conda)",
   "language": "python",
   "name": "sys_asiw9691_conda_env"
  },
  "language_info": {
   "codemirror_mode": {
    "name": "ipython",
    "version": 3
   },
   "file_extension": ".py",
   "mimetype": "text/x-python",
   "name": "python",
   "nbconvert_exporter": "python",
   "pygments_lexer": "ipython3",
   "version": "3.10.4"
  }
 },
 "nbformat": 4,
 "nbformat_minor": 5
}

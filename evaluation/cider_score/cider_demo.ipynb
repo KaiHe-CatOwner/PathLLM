{
 "cells": [
  {
   "cell_type": "markdown",
   "metadata": {
    "colab_type": "text",
    "id": "view-in-github"
   },
   "source": [
    "<a href=\"https://colab.research.google.com/github/michelecafagna26/cider/blob/master/cider_demo.ipynb\" target=\"_parent\"><img src=\"https://colab.research.google.com/assets/colab-badge.svg\" alt=\"Open In Colab\"/></a>"
   ]
  },
  {
   "cell_type": "markdown",
   "metadata": {
    "id": "GWTmEvA9jNbE"
   },
   "source": [
    "# Install"
   ]
  },
  {
   "cell_type": "code",
   "execution_count": 9,
   "metadata": {
    "colab": {
     "base_uri": "https://localhost:8080/"
    },
    "id": "AeLUPV23cglP",
    "outputId": "61e4fef5-0481-4c41-ee8a-0e8073f0d3e1"
   },
   "outputs": [
    {
     "name": "stdout",
     "output_type": "stream",
     "text": [
      "Looking in indexes: https://pypi.tuna.tsinghua.edu.cn/simple\n",
      "Requirement already satisfied: spacy in d:\\miniconda\\envs\\llm\\lib\\site-packages (3.7.4)\n",
      "Requirement already satisfied: spacy-legacy<3.1.0,>=3.0.11 in d:\\miniconda\\envs\\llm\\lib\\site-packages (from spacy) (3.0.12)\n",
      "Requirement already satisfied: spacy-loggers<2.0.0,>=1.0.0 in d:\\miniconda\\envs\\llm\\lib\\site-packages (from spacy) (1.0.5)\n",
      "Requirement already satisfied: murmurhash<1.1.0,>=0.28.0 in d:\\miniconda\\envs\\llm\\lib\\site-packages (from spacy) (1.0.10)\n",
      "Requirement already satisfied: cymem<2.1.0,>=2.0.2 in d:\\miniconda\\envs\\llm\\lib\\site-packages (from spacy) (2.0.8)\n",
      "Requirement already satisfied: preshed<3.1.0,>=3.0.2 in d:\\miniconda\\envs\\llm\\lib\\site-packages (from spacy) (3.0.9)\n",
      "Requirement already satisfied: thinc<8.3.0,>=8.2.2 in d:\\miniconda\\envs\\llm\\lib\\site-packages (from spacy) (8.2.3)\n",
      "Requirement already satisfied: wasabi<1.2.0,>=0.9.1 in d:\\miniconda\\envs\\llm\\lib\\site-packages (from spacy) (1.1.2)\n",
      "Requirement already satisfied: srsly<3.0.0,>=2.4.3 in d:\\miniconda\\envs\\llm\\lib\\site-packages (from spacy) (2.4.8)\n",
      "Requirement already satisfied: catalogue<2.1.0,>=2.0.6 in d:\\miniconda\\envs\\llm\\lib\\site-packages (from spacy) (2.0.10)\n",
      "Requirement already satisfied: weasel<0.4.0,>=0.1.0 in d:\\miniconda\\envs\\llm\\lib\\site-packages (from spacy) (0.3.4)\n",
      "Requirement already satisfied: typer<0.10.0,>=0.3.0 in d:\\miniconda\\envs\\llm\\lib\\site-packages (from spacy) (0.9.4)\n",
      "Requirement already satisfied: smart-open<7.0.0,>=5.2.1 in d:\\miniconda\\envs\\llm\\lib\\site-packages (from spacy) (6.4.0)\n",
      "Requirement already satisfied: tqdm<5.0.0,>=4.38.0 in d:\\miniconda\\envs\\llm\\lib\\site-packages (from spacy) (4.66.1)\n",
      "Requirement already satisfied: requests<3.0.0,>=2.13.0 in d:\\miniconda\\envs\\llm\\lib\\site-packages (from spacy) (2.31.0)\n",
      "Requirement already satisfied: pydantic!=1.8,!=1.8.1,<3.0.0,>=1.7.4 in d:\\miniconda\\envs\\llm\\lib\\site-packages (from spacy) (2.7.1)\n",
      "Requirement already satisfied: jinja2 in d:\\miniconda\\envs\\llm\\lib\\site-packages (from spacy) (3.1.2)\n",
      "Requirement already satisfied: setuptools in d:\\miniconda\\envs\\llm\\lib\\site-packages (from spacy) (68.0.0)\n",
      "Requirement already satisfied: packaging>=20.0 in d:\\miniconda\\envs\\llm\\lib\\site-packages (from spacy) (23.2)\n",
      "Requirement already satisfied: langcodes<4.0.0,>=3.2.0 in d:\\miniconda\\envs\\llm\\lib\\site-packages (from spacy) (3.4.0)\n",
      "Requirement already satisfied: numpy>=1.15.0 in d:\\miniconda\\envs\\llm\\lib\\site-packages (from spacy) (1.24.4)\n",
      "Requirement already satisfied: language-data>=1.2 in d:\\miniconda\\envs\\llm\\lib\\site-packages (from langcodes<4.0.0,>=3.2.0->spacy) (1.2.0)\n",
      "Requirement already satisfied: annotated-types>=0.4.0 in d:\\miniconda\\envs\\llm\\lib\\site-packages (from pydantic!=1.8,!=1.8.1,<3.0.0,>=1.7.4->spacy) (0.7.0)\n",
      "Requirement already satisfied: pydantic-core==2.18.2 in d:\\miniconda\\envs\\llm\\lib\\site-packages (from pydantic!=1.8,!=1.8.1,<3.0.0,>=1.7.4->spacy) (2.18.2)\n",
      "Requirement already satisfied: typing-extensions>=4.6.1 in d:\\miniconda\\envs\\llm\\lib\\site-packages (from pydantic!=1.8,!=1.8.1,<3.0.0,>=1.7.4->spacy) (4.8.0)\n",
      "Requirement already satisfied: charset-normalizer<4,>=2 in d:\\miniconda\\envs\\llm\\lib\\site-packages (from requests<3.0.0,>=2.13.0->spacy) (3.3.2)\n",
      "Requirement already satisfied: idna<4,>=2.5 in d:\\miniconda\\envs\\llm\\lib\\site-packages (from requests<3.0.0,>=2.13.0->spacy) (3.4)\n",
      "Requirement already satisfied: urllib3<3,>=1.21.1 in d:\\miniconda\\envs\\llm\\lib\\site-packages (from requests<3.0.0,>=2.13.0->spacy) (2.0.7)\n",
      "Requirement already satisfied: certifi>=2017.4.17 in d:\\miniconda\\envs\\llm\\lib\\site-packages (from requests<3.0.0,>=2.13.0->spacy) (2023.7.22)\n",
      "Requirement already satisfied: blis<0.8.0,>=0.7.8 in d:\\miniconda\\envs\\llm\\lib\\site-packages (from thinc<8.3.0,>=8.2.2->spacy) (0.7.11)\n",
      "Requirement already satisfied: confection<1.0.0,>=0.0.1 in d:\\miniconda\\envs\\llm\\lib\\site-packages (from thinc<8.3.0,>=8.2.2->spacy) (0.1.4)\n",
      "Requirement already satisfied: colorama in d:\\miniconda\\envs\\llm\\lib\\site-packages (from tqdm<5.0.0,>=4.38.0->spacy) (0.4.6)\n",
      "Requirement already satisfied: click<9.0.0,>=7.1.1 in d:\\miniconda\\envs\\llm\\lib\\site-packages (from typer<0.10.0,>=0.3.0->spacy) (8.1.7)\n",
      "Requirement already satisfied: cloudpathlib<0.17.0,>=0.7.0 in d:\\miniconda\\envs\\llm\\lib\\site-packages (from weasel<0.4.0,>=0.1.0->spacy) (0.16.0)\n",
      "Requirement already satisfied: MarkupSafe>=2.0 in d:\\miniconda\\envs\\llm\\lib\\site-packages (from jinja2->spacy) (2.1.3)\n",
      "Requirement already satisfied: marisa-trie>=0.7.7 in d:\\miniconda\\envs\\llm\\lib\\site-packages (from language-data>=1.2->langcodes<4.0.0,>=3.2.0->spacy) (1.1.1)\n",
      "Looking in indexes: https://pypi.tuna.tsinghua.edu.cn/simple\n",
      "Collecting en-core-web-sm==3.7.1\n",
      "  Downloading https://github.com/explosion/spacy-models/releases/download/en_core_web_sm-3.7.1/en_core_web_sm-3.7.1-py3-none-any.whl (12.8 MB)\n",
      "     ---------------------------------------- 0.0/12.8 MB ? eta -:--:--\n",
      "     ---------------------------------------- 0.0/12.8 MB ? eta -:--:--\n",
      "     --------------------------------------- 0.0/12.8 MB 217.9 kB/s eta 0:00:59\n",
      "     --------------------------------------- 0.0/12.8 MB 217.9 kB/s eta 0:00:59\n",
      "     --------------------------------------- 0.0/12.8 MB 119.1 kB/s eta 0:01:48\n",
      "     --------------------------------------- 0.0/12.8 MB 119.1 kB/s eta 0:01:48\n",
      "     --------------------------------------- 0.0/12.8 MB 122.9 kB/s eta 0:01:44\n",
      "     --------------------------------------- 0.1/12.8 MB 164.1 kB/s eta 0:01:18\n",
      "     --------------------------------------- 0.1/12.8 MB 201.8 kB/s eta 0:01:03\n",
      "     --------------------------------------- 0.1/12.8 MB 234.3 kB/s eta 0:00:55\n",
      "     --------------------------------------- 0.1/12.8 MB 232.7 kB/s eta 0:00:55\n",
      "     --------------------------------------- 0.2/12.8 MB 280.8 kB/s eta 0:00:46\n",
      "      -------------------------------------- 0.2/12.8 MB 318.9 kB/s eta 0:00:40\n",
      "      -------------------------------------- 0.2/12.8 MB 367.4 kB/s eta 0:00:35\n",
      "      -------------------------------------- 0.3/12.8 MB 402.4 kB/s eta 0:00:32\n",
      "     - ------------------------------------- 0.3/12.8 MB 446.4 kB/s eta 0:00:28\n",
      "     - ------------------------------------- 0.4/12.8 MB 511.3 kB/s eta 0:00:25\n",
      "     - ------------------------------------- 0.5/12.8 MB 581.3 kB/s eta 0:00:22\n",
      "     - ------------------------------------- 0.5/12.8 MB 619.9 kB/s eta 0:00:20\n",
      "     - ------------------------------------- 0.6/12.8 MB 655.3 kB/s eta 0:00:19\n",
      "     -- ------------------------------------ 0.7/12.8 MB 686.9 kB/s eta 0:00:18\n",
      "     -- ------------------------------------ 0.8/12.8 MB 735.7 kB/s eta 0:00:17\n",
      "     -- ------------------------------------ 0.8/12.8 MB 762.9 kB/s eta 0:00:16\n",
      "     -- ------------------------------------ 0.9/12.8 MB 786.3 kB/s eta 0:00:16\n",
      "     -- ------------------------------------ 0.9/12.8 MB 816.7 kB/s eta 0:00:15\n",
      "     --- ----------------------------------- 1.1/12.8 MB 893.8 kB/s eta 0:00:14\n",
      "     --- ------------------------------------ 1.3/12.8 MB 1.0 MB/s eta 0:00:12\n",
      "     ---- ----------------------------------- 1.4/12.8 MB 1.1 MB/s eta 0:00:11\n",
      "     ----- ---------------------------------- 1.6/12.8 MB 1.2 MB/s eta 0:00:10\n",
      "     ----- ---------------------------------- 1.8/12.8 MB 1.3 MB/s eta 0:00:09\n",
      "     ------ --------------------------------- 2.1/12.8 MB 1.5 MB/s eta 0:00:08\n",
      "     ------- -------------------------------- 2.5/12.8 MB 1.7 MB/s eta 0:00:07\n",
      "     --------- ------------------------------ 3.2/12.8 MB 2.1 MB/s eta 0:00:05\n",
      "     ------------ --------------------------- 3.9/12.8 MB 2.4 MB/s eta 0:00:04\n",
      "     -------------- ------------------------- 4.5/12.8 MB 2.7 MB/s eta 0:00:04\n",
      "     --------------- ------------------------ 4.9/12.8 MB 2.9 MB/s eta 0:00:03\n",
      "     ---------------- ----------------------- 5.2/12.8 MB 3.0 MB/s eta 0:00:03\n",
      "     ----------------- ---------------------- 5.5/12.8 MB 3.0 MB/s eta 0:00:03\n",
      "     ------------------ --------------------- 5.8/12.8 MB 3.1 MB/s eta 0:00:03\n",
      "     ------------------- -------------------- 6.1/12.8 MB 3.2 MB/s eta 0:00:03\n",
      "     ------------------- -------------------- 6.4/12.8 MB 3.3 MB/s eta 0:00:02\n",
      "     -------------------- ------------------- 6.7/12.8 MB 3.3 MB/s eta 0:00:02\n",
      "     --------------------- ------------------ 7.0/12.8 MB 3.4 MB/s eta 0:00:02\n",
      "     ---------------------- ----------------- 7.3/12.8 MB 3.5 MB/s eta 0:00:02\n",
      "     ----------------------- ---------------- 7.6/12.8 MB 3.5 MB/s eta 0:00:02\n",
      "     ------------------------ --------------- 7.9/12.8 MB 3.6 MB/s eta 0:00:02\n",
      "     ------------------------- -------------- 8.2/12.8 MB 3.7 MB/s eta 0:00:02\n",
      "     -------------------------- ------------- 8.5/12.8 MB 3.7 MB/s eta 0:00:02\n",
      "     --------------------------- ------------ 8.8/12.8 MB 3.8 MB/s eta 0:00:02\n",
      "     ---------------------------- ----------- 9.1/12.8 MB 3.8 MB/s eta 0:00:01\n",
      "     ----------------------------- ---------- 9.4/12.8 MB 3.9 MB/s eta 0:00:01\n",
      "     ------------------------------ --------- 9.7/12.8 MB 3.9 MB/s eta 0:00:01\n",
      "     ------------------------------- -------- 10.0/12.8 MB 3.9 MB/s eta 0:00:01\n",
      "     -------------------------------- ------- 10.3/12.8 MB 4.4 MB/s eta 0:00:01\n",
      "     --------------------------------- ------ 10.6/12.8 MB 5.4 MB/s eta 0:00:01\n",
      "     --------------------------------- ------ 10.9/12.8 MB 5.9 MB/s eta 0:00:01\n",
      "     ---------------------------------- ----- 11.2/12.8 MB 6.5 MB/s eta 0:00:01\n",
      "     ----------------------------------- ---- 11.4/12.8 MB 6.7 MB/s eta 0:00:01\n",
      "     ------------------------------------ --- 11.7/12.8 MB 6.8 MB/s eta 0:00:01\n",
      "     ------------------------------------- -- 12.0/12.8 MB 6.9 MB/s eta 0:00:01\n",
      "     -------------------------------------- - 12.3/12.8 MB 6.9 MB/s eta 0:00:01\n",
      "     ---------------------------------------  12.6/12.8 MB 6.8 MB/s eta 0:00:01\n",
      "     ---------------------------------------  12.8/12.8 MB 6.8 MB/s eta 0:00:01\n",
      "     ---------------------------------------- 12.8/12.8 MB 6.6 MB/s eta 0:00:00\n",
      "Requirement already satisfied: spacy<3.8.0,>=3.7.2 in d:\\miniconda\\envs\\llm\\lib\\site-packages (from en-core-web-sm==3.7.1) (3.7.4)\n",
      "Requirement already satisfied: spacy-legacy<3.1.0,>=3.0.11 in d:\\miniconda\\envs\\llm\\lib\\site-packages (from spacy<3.8.0,>=3.7.2->en-core-web-sm==3.7.1) (3.0.12)\n",
      "Requirement already satisfied: spacy-loggers<2.0.0,>=1.0.0 in d:\\miniconda\\envs\\llm\\lib\\site-packages (from spacy<3.8.0,>=3.7.2->en-core-web-sm==3.7.1) (1.0.5)\n",
      "Requirement already satisfied: murmurhash<1.1.0,>=0.28.0 in d:\\miniconda\\envs\\llm\\lib\\site-packages (from spacy<3.8.0,>=3.7.2->en-core-web-sm==3.7.1) (1.0.10)\n",
      "Requirement already satisfied: cymem<2.1.0,>=2.0.2 in d:\\miniconda\\envs\\llm\\lib\\site-packages (from spacy<3.8.0,>=3.7.2->en-core-web-sm==3.7.1) (2.0.8)\n",
      "Requirement already satisfied: preshed<3.1.0,>=3.0.2 in d:\\miniconda\\envs\\llm\\lib\\site-packages (from spacy<3.8.0,>=3.7.2->en-core-web-sm==3.7.1) (3.0.9)\n",
      "Requirement already satisfied: thinc<8.3.0,>=8.2.2 in d:\\miniconda\\envs\\llm\\lib\\site-packages (from spacy<3.8.0,>=3.7.2->en-core-web-sm==3.7.1) (8.2.3)\n",
      "Requirement already satisfied: wasabi<1.2.0,>=0.9.1 in d:\\miniconda\\envs\\llm\\lib\\site-packages (from spacy<3.8.0,>=3.7.2->en-core-web-sm==3.7.1) (1.1.2)\n",
      "Requirement already satisfied: srsly<3.0.0,>=2.4.3 in d:\\miniconda\\envs\\llm\\lib\\site-packages (from spacy<3.8.0,>=3.7.2->en-core-web-sm==3.7.1) (2.4.8)\n",
      "Requirement already satisfied: catalogue<2.1.0,>=2.0.6 in d:\\miniconda\\envs\\llm\\lib\\site-packages (from spacy<3.8.0,>=3.7.2->en-core-web-sm==3.7.1) (2.0.10)\n",
      "Requirement already satisfied: weasel<0.4.0,>=0.1.0 in d:\\miniconda\\envs\\llm\\lib\\site-packages (from spacy<3.8.0,>=3.7.2->en-core-web-sm==3.7.1) (0.3.4)\n",
      "Requirement already satisfied: typer<0.10.0,>=0.3.0 in d:\\miniconda\\envs\\llm\\lib\\site-packages (from spacy<3.8.0,>=3.7.2->en-core-web-sm==3.7.1) (0.9.4)\n",
      "Requirement already satisfied: smart-open<7.0.0,>=5.2.1 in d:\\miniconda\\envs\\llm\\lib\\site-packages (from spacy<3.8.0,>=3.7.2->en-core-web-sm==3.7.1) (6.4.0)\n",
      "Requirement already satisfied: tqdm<5.0.0,>=4.38.0 in d:\\miniconda\\envs\\llm\\lib\\site-packages (from spacy<3.8.0,>=3.7.2->en-core-web-sm==3.7.1) (4.66.1)\n",
      "Requirement already satisfied: requests<3.0.0,>=2.13.0 in d:\\miniconda\\envs\\llm\\lib\\site-packages (from spacy<3.8.0,>=3.7.2->en-core-web-sm==3.7.1) (2.31.0)\n",
      "Requirement already satisfied: pydantic!=1.8,!=1.8.1,<3.0.0,>=1.7.4 in d:\\miniconda\\envs\\llm\\lib\\site-packages (from spacy<3.8.0,>=3.7.2->en-core-web-sm==3.7.1) (2.7.1)\n",
      "Requirement already satisfied: jinja2 in d:\\miniconda\\envs\\llm\\lib\\site-packages (from spacy<3.8.0,>=3.7.2->en-core-web-sm==3.7.1) (3.1.2)\n",
      "Requirement already satisfied: setuptools in d:\\miniconda\\envs\\llm\\lib\\site-packages (from spacy<3.8.0,>=3.7.2->en-core-web-sm==3.7.1) (68.0.0)\n",
      "Requirement already satisfied: packaging>=20.0 in d:\\miniconda\\envs\\llm\\lib\\site-packages (from spacy<3.8.0,>=3.7.2->en-core-web-sm==3.7.1) (23.2)\n",
      "Requirement already satisfied: langcodes<4.0.0,>=3.2.0 in d:\\miniconda\\envs\\llm\\lib\\site-packages (from spacy<3.8.0,>=3.7.2->en-core-web-sm==3.7.1) (3.4.0)\n",
      "Requirement already satisfied: numpy>=1.15.0 in d:\\miniconda\\envs\\llm\\lib\\site-packages (from spacy<3.8.0,>=3.7.2->en-core-web-sm==3.7.1) (1.24.4)\n",
      "Requirement already satisfied: language-data>=1.2 in d:\\miniconda\\envs\\llm\\lib\\site-packages (from langcodes<4.0.0,>=3.2.0->spacy<3.8.0,>=3.7.2->en-core-web-sm==3.7.1) (1.2.0)\n",
      "Requirement already satisfied: annotated-types>=0.4.0 in d:\\miniconda\\envs\\llm\\lib\\site-packages (from pydantic!=1.8,!=1.8.1,<3.0.0,>=1.7.4->spacy<3.8.0,>=3.7.2->en-core-web-sm==3.7.1) (0.7.0)\n",
      "Requirement already satisfied: pydantic-core==2.18.2 in d:\\miniconda\\envs\\llm\\lib\\site-packages (from pydantic!=1.8,!=1.8.1,<3.0.0,>=1.7.4->spacy<3.8.0,>=3.7.2->en-core-web-sm==3.7.1) (2.18.2)\n",
      "Requirement already satisfied: typing-extensions>=4.6.1 in d:\\miniconda\\envs\\llm\\lib\\site-packages (from pydantic!=1.8,!=1.8.1,<3.0.0,>=1.7.4->spacy<3.8.0,>=3.7.2->en-core-web-sm==3.7.1) (4.8.0)\n",
      "Requirement already satisfied: charset-normalizer<4,>=2 in d:\\miniconda\\envs\\llm\\lib\\site-packages (from requests<3.0.0,>=2.13.0->spacy<3.8.0,>=3.7.2->en-core-web-sm==3.7.1) (3.3.2)\n",
      "Requirement already satisfied: idna<4,>=2.5 in d:\\miniconda\\envs\\llm\\lib\\site-packages (from requests<3.0.0,>=2.13.0->spacy<3.8.0,>=3.7.2->en-core-web-sm==3.7.1) (3.4)\n",
      "Requirement already satisfied: urllib3<3,>=1.21.1 in d:\\miniconda\\envs\\llm\\lib\\site-packages (from requests<3.0.0,>=2.13.0->spacy<3.8.0,>=3.7.2->en-core-web-sm==3.7.1) (2.0.7)\n",
      "Requirement already satisfied: certifi>=2017.4.17 in d:\\miniconda\\envs\\llm\\lib\\site-packages (from requests<3.0.0,>=2.13.0->spacy<3.8.0,>=3.7.2->en-core-web-sm==3.7.1) (2023.7.22)\n",
      "Requirement already satisfied: blis<0.8.0,>=0.7.8 in d:\\miniconda\\envs\\llm\\lib\\site-packages (from thinc<8.3.0,>=8.2.2->spacy<3.8.0,>=3.7.2->en-core-web-sm==3.7.1) (0.7.11)\n",
      "Requirement already satisfied: confection<1.0.0,>=0.0.1 in d:\\miniconda\\envs\\llm\\lib\\site-packages (from thinc<8.3.0,>=8.2.2->spacy<3.8.0,>=3.7.2->en-core-web-sm==3.7.1) (0.1.4)\n",
      "Requirement already satisfied: colorama in d:\\miniconda\\envs\\llm\\lib\\site-packages (from tqdm<5.0.0,>=4.38.0->spacy<3.8.0,>=3.7.2->en-core-web-sm==3.7.1) (0.4.6)\n",
      "Requirement already satisfied: click<9.0.0,>=7.1.1 in d:\\miniconda\\envs\\llm\\lib\\site-packages (from typer<0.10.0,>=0.3.0->spacy<3.8.0,>=3.7.2->en-core-web-sm==3.7.1) (8.1.7)\n",
      "Requirement already satisfied: cloudpathlib<0.17.0,>=0.7.0 in d:\\miniconda\\envs\\llm\\lib\\site-packages (from weasel<0.4.0,>=0.1.0->spacy<3.8.0,>=3.7.2->en-core-web-sm==3.7.1) (0.16.0)\n",
      "Requirement already satisfied: MarkupSafe>=2.0 in d:\\miniconda\\envs\\llm\\lib\\site-packages (from jinja2->spacy<3.8.0,>=3.7.2->en-core-web-sm==3.7.1) (2.1.3)\n",
      "Requirement already satisfied: marisa-trie>=0.7.7 in d:\\miniconda\\envs\\llm\\lib\\site-packages (from language-data>=1.2->langcodes<4.0.0,>=3.2.0->spacy<3.8.0,>=3.7.2->en-core-web-sm==3.7.1) (1.1.1)\n",
      "\u001b[38;5;2m✔ Download and installation successful\u001b[0m\n",
      "You can now load the package via spacy.load('en_core_web_sm')\n"
     ]
    }
   ],
   "source": [
    "#use spacy to get rid of the influence of standford-corenlp.jar, which requires java\n",
    "! pip install spacy\n",
    "! python -m spacy download en_core_web_sm  "
   ]
  },
  {
   "cell_type": "markdown",
   "metadata": {
    "id": "RF9-uATHjSJT"
   },
   "source": [
    "Ready to go!"
   ]
  },
  {
   "cell_type": "code",
   "execution_count": 2,
   "metadata": {
    "id": "UvK_ACyMeqDD"
   },
   "outputs": [],
   "source": [
    "from cidereval import cider, ciderD\n",
    "import pandas as pd"
   ]
  },
  {
   "cell_type": "code",
   "execution_count": 6,
   "metadata": {},
   "outputs": [
    {
     "name": "stdout",
     "output_type": "stream",
     "text": [
      "CIDEr Score: 1.1466548664799776\n"
     ]
    }
   ],
   "source": [
    "def calculate_cider_score(file_path,pred_column,ref_column):\n",
    "    \"\"\"\n",
    "    input:\n",
    "\n",
    "    file_path: table to be analysed.\n",
    "    pred_column: column name that the analysed model generated\n",
    "    ref_column: column name of the ground truth\n",
    "\n",
    "    output:\n",
    "    score:{avg_score:xxx,scores:[array]}\n",
    "    \"\"\"\n",
    "    # 读取xlsx文件\n",
    "    df = pd.read_excel(file_path)\n",
    "\n",
    "    # 创建存储ground_truth和generated句子的列表\n",
    "    references = []\n",
    "    candidates = []\n",
    "\n",
    "    # 遍历每一行并将内容添加到对应的列表中\n",
    "    for index, row in df.iterrows():\n",
    "        # references.append([row['answers']])\n",
    "        # candidates.append([row['results']])\n",
    "        references.append([row[ref_column]])\n",
    "        candidates.append(row[pred_column])\n",
    "    # 创建Cider对象\n",
    "    # cider_scorer = Cider()\n",
    "\n",
    "    # 计算CIDEr分数\n",
    "\n",
    "    cider_score = cider(candidates,references,df=\"corpus\")\n",
    "\n",
    "    return cider_score\n",
    "\n",
    "# 调用函数并传入xlsx文件路径\n",
    "file_path = 'output_sample.xls'\n",
    "score = calculate_cider_score(file_path,\"results\",\"answers\")\n",
    "print(\"CIDEr Score:\", score['avg_score'])"
   ]
  }
 ],
 "metadata": {
  "colab": {
   "authorship_tag": "ABX9TyMT4TNjFKKrEMcMc0uZ6Ubr",
   "include_colab_link": true,
   "name": "cider_demo.ipynb",
   "provenance": []
  },
  "kernelspec": {
   "display_name": "asiw9691_conda_env (Conda)",
   "language": "python",
   "name": "sys_asiw9691_conda_env"
  },
  "language_info": {
   "codemirror_mode": {
    "name": "ipython",
    "version": 3
   },
   "file_extension": ".py",
   "mimetype": "text/x-python",
   "name": "python",
   "nbconvert_exporter": "python",
   "pygments_lexer": "ipython3",
   "version": "3.10.4"
  }
 },
 "nbformat": 4,
 "nbformat_minor": 4
}

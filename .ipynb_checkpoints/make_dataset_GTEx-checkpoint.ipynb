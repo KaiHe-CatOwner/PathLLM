{
 "cells": [
  {
   "cell_type": "code",
   "execution_count": 1,
   "id": "86f29c83-d585-426b-843a-bff1a37ac449",
   "metadata": {},
   "outputs": [
    {
     "name": "stderr",
     "output_type": "stream",
     "text": [
      "/bask/projects/p/phwq4930-gbm/Zeyu/asiw9691_conda_env/lib/python3.10/site-packages/tqdm/auto.py:21: TqdmWarning: IProgress not found. Please update jupyter and ipywidgets. See https://ipywidgets.readthedocs.io/en/stable/user_install.html\n",
      "  from .autonotebook import tqdm as notebook_tqdm\n"
     ]
    }
   ],
   "source": [
    "import os\n",
    "import glob\n",
    "import numpy as npls\n",
    "\n",
    "import pandas as pd\n",
    "from tqdm import tqdm\n",
    "from datasets import Dataset, load_dataset"
   ]
  },
  {
   "cell_type": "code",
   "execution_count": 18,
   "id": "b188064d-e5e5-4f1d-b996-5a0062a387a7",
   "metadata": {},
   "outputs": [],
   "source": [
    "# set your file dir path\n",
    "cache_dir = \"/bask/projects/p/phwq4930-gbm/Zeyu/PathVLM/.cache\"\n",
    "npy_directory = '/bask/projects/p/phwq4930-gbm/Zeyu/WSI_Dataset/Conch/GTEx-Normal'\n",
    "dataset_caption = 'CNX-PathLLM/Normal-Caption'\n",
    "dataset = load_dataset(dataset_caption, split=\"train\", cache_dir=cache_dir)\n",
    "dataset = dataset.to_pandas()"
   ]
  },
  {
   "cell_type": "code",
   "execution_count": 20,
   "id": "0247fb47-7df2-4055-b27c-b8da2c4ec466",
   "metadata": {},
   "outputs": [],
   "source": [
    "df_text = dataset[['Tissue Sample ID', 'Tissue', 'caption']]"
   ]
  },
  {
   "cell_type": "code",
   "execution_count": 21,
   "id": "c5e93d83-97a5-44ee-a319-b8a1060cffeb",
   "metadata": {},
   "outputs": [],
   "source": [
    "feature1_files = glob.glob(os.path.join(npy_directory, \"*_0_1024.npy\"))\n",
    "feature2_files = glob.glob(os.path.join(npy_directory, \"*_1_512.npy\"))\n",
    "feature3_files = glob.glob(os.path.join(npy_directory, \"*_1_1024.npy\"))\n",
    "# text_files = glob.glob(os.path.join(txt_directory, \"*.txt\"))\n",
    "df_fea1 = pd.DataFrame(feature1_files, columns=['fea1_file_path'])\n",
    "df_fea2 = pd.DataFrame(feature2_files, columns=['fea2_file_path'])\n",
    "df_fea3 = pd.DataFrame(feature3_files, columns=['fea3_file_path'])\n",
    "# df_text = pd.DataFrame(text_files, columns=['text_file_path'])\n",
    "df_fea1['Tissue Sample ID'] = df_fea1['fea1_file_path'].apply(lambda x: os.path.basename(x).split('_')[0])\n",
    "df_fea2['Tissue Sample ID'] = df_fea2['fea2_file_path'].apply(lambda x: os.path.basename(x).split('_')[0])\n",
    "df_fea3['Tissue Sample ID'] = df_fea3['fea3_file_path'].apply(lambda x: os.path.basename(x).split('_')[0])"
   ]
  },
  {
   "cell_type": "code",
   "execution_count": 22,
   "id": "a422e8ce-0512-4bbc-91d1-b58c10092131",
   "metadata": {},
   "outputs": [],
   "source": [
    "df_fea = pd.merge(df_fea1, df_fea2, on='Tissue Sample ID', how='inner')\n",
    "df_fea = pd.merge(df_fea, df_fea3, on='Tissue Sample ID', how='inner')\n",
    "df = pd.merge(df_fea, df_text, on='Tissue Sample ID', how='inner')"
   ]
  },
  {
   "cell_type": "code",
   "execution_count": 23,
   "id": "cbaa7c7b-a71d-46d9-927f-ab5f24bdc38e",
   "metadata": {},
   "outputs": [
    {
     "name": "stderr",
     "output_type": "stream",
     "text": [
      "100%|██████████| 24279/24279 [00:04<00:00, 6061.58it/s]\n"
     ]
    }
   ],
   "source": [
    "data = []\n",
    "for i in tqdm(range(df.shape[0])):\n",
    "#     feature1_content = np.load(df.iloc[i]['fea1_file_path'], allow_pickle=True) \n",
    "#     feature1 = feature1_content[()]['feature'].cpu().numpy().flatten() # Nx512\n",
    "#     feature1_cor = np.array([x.split('_')[:2] for x in feature1_content[()]['index']]).astype('int').flatten() # Nx2\n",
    "    \n",
    "#     feature2_content = np.load(df.iloc[i]['fea2_file_path'], allow_pickle=True)\n",
    "#     feature2 = feature2_content[()]['feature'].cpu().numpy().flatten()\n",
    "#     feature2_cor = np.array([x.split('_')[:2] for x in feature2_content[()]['index']]).astype('int').flatten()\n",
    "    \n",
    "#     feature3_content = np.load(df.iloc[i]['fea3_file_path'], allow_pickle=True)\n",
    "#     feature3 = feature3_content[()]['feature'].cpu().numpy().flatten()\n",
    "#     feature3_cor = np.array([x.split('_')[:2] for x in feature3_content[()]['index']]).astype('int').flatten()\n",
    "\n",
    "    txt_content = df.iloc[i]['caption']\n",
    "    tissue_id = df.iloc[i]['Tissue Sample ID']\n",
    "    tissue_site = df.iloc[i]['Tissue']\n",
    "        \n",
    "    data.append({'f1024': df.iloc[i]['fea1_file_path'], \n",
    "                 'f2048': df.iloc[i]['fea2_file_path'], \n",
    "                 'f4096': df.iloc[i]['fea3_file_path'],\n",
    "                 'site': tissue_site,\n",
    "                 'description': txt_content, 'slide_id': tissue_id})"
   ]
  },
  {
   "cell_type": "code",
   "execution_count": 24,
   "id": "6266fec6-577d-4a3e-96ff-2da6d4ad5efc",
   "metadata": {},
   "outputs": [],
   "source": [
    "# to huggingface format\n",
    "data = pd.DataFrame(data)"
   ]
  },
  {
   "cell_type": "code",
   "execution_count": 25,
   "id": "f5e1015d-0664-4e53-8156-7088baeb2882",
   "metadata": {},
   "outputs": [],
   "source": [
    "dataset = Dataset.from_pandas(data)"
   ]
  },
  {
   "cell_type": "code",
   "execution_count": null,
   "id": "f602495d-ffe7-4d4e-a2ab-83e53f4cc1fd",
   "metadata": {},
   "outputs": [],
   "source": [
    "dataset.push_to_hub('CNX-PathLLM/TCGA-WSI-Text')"
   ]
  },
  {
   "cell_type": "code",
   "execution_count": 48,
   "id": "e932bf5e-85a0-4e7e-8bca-f204a61b72b1",
   "metadata": {},
   "outputs": [
    {
     "name": "stderr",
     "output_type": "stream",
     "text": [
      "Saving the dataset (19/19 shards): 100%|██████████| 910/910 [00:04<00:00, 189.66 examples/s]\n"
     ]
    }
   ],
   "source": [
    "# 保存数据集\n",
    "dataset.save_to_disk('/bask/projects/p/phwq4930-gbm/Zeyu/WSI_Dataset/WVLMdata_test')\n",
    "# 加载数据集\n",
    "loaded_dataset = Dataset.load_from_disk('/bask/projects/p/phwq4930-gbm/Zeyu/WSI_Dataset/WVLMdata_test')"
   ]
  },
  {
   "cell_type": "code",
   "execution_count": 49,
   "id": "cc0d9924-6ce8-45b0-a6fb-efe4443c5bd8",
   "metadata": {},
   "outputs": [
    {
     "data": {
      "text/plain": [
       "Dataset({\n",
       "    features: ['f1', 'cor1', 'f2', 'cor2', 'f3', 'cor3', 'label'],\n",
       "    num_rows: 910\n",
       "})"
      ]
     },
     "execution_count": 49,
     "metadata": {},
     "output_type": "execute_result"
    }
   ],
   "source": [
    "loaded_dataset"
   ]
  },
  {
   "cell_type": "code",
   "execution_count": null,
   "id": "e772a3ab-b677-4d1a-ae86-1b981a248fff",
   "metadata": {},
   "outputs": [],
   "source": []
  }
 ],
 "metadata": {
  "kernelspec": {
   "display_name": "asiw9691_conda_env (Conda)",
   "language": "python",
   "name": "sys_asiw9691_conda_env"
  },
  "language_info": {
   "codemirror_mode": {
    "name": "ipython",
    "version": 3
   },
   "file_extension": ".py",
   "mimetype": "text/x-python",
   "name": "python",
   "nbconvert_exporter": "python",
   "pygments_lexer": "ipython3",
   "version": "3.10.4"
  }
 },
 "nbformat": 4,
 "nbformat_minor": 5
}

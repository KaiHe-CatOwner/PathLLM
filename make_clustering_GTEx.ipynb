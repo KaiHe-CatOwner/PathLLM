{
 "cells": [
  {
   "cell_type": "code",
   "execution_count": 3,
   "id": "a4f65bad-9c2c-43b7-8688-094b6f9da364",
   "metadata": {},
   "outputs": [],
   "source": [
    "import os\n",
    "import glob\n",
    "import numpy as np\n",
    "import pandas as pd\n",
    "from tqdm import tqdm\n",
    "from sklearn.cluster import KMeans\n",
    "from concurrent.futures import ThreadPoolExecutor, as_completed"
   ]
  },
  {
   "cell_type": "code",
   "execution_count": 4,
   "id": "00a61558-f991-44df-a247-f0295cc88c27",
   "metadata": {},
   "outputs": [],
   "source": [
    "# set your file dir path\n",
    "npy_directory = '/bask/homes/a/asiw9691/PathVLM/WSI_Dataset/Conch/GTEx-Normal/'\n",
    "feature1_files = glob.glob(os.path.join(npy_directory, \"*_0_1024.npy\"))\n",
    "feature2_files = glob.glob(os.path.join(npy_directory, \"*_1_512.npy\"))\n",
    "feature3_files = glob.glob(os.path.join(npy_directory, \"*_1_1024.npy\"))\n",
    "\n",
    "df_fea1 = pd.DataFrame(feature1_files, columns=['fea1_file_path'])\n",
    "df_fea2 = pd.DataFrame(feature2_files, columns=['fea2_file_path'])\n",
    "df_fea3 = pd.DataFrame(feature3_files, columns=['fea3_file_path'])"
   ]
  },
  {
   "cell_type": "code",
   "execution_count": 5,
   "id": "65006561-f0e1-4a93-b585-3f8cbe12a762",
   "metadata": {},
   "outputs": [],
   "source": [
    "df_fea1['slide_id'] = df_fea1['fea1_file_path'].apply(lambda x: os.path.basename(x).split('_')[0])\n",
    "df_fea2['slide_id'] = df_fea2['fea2_file_path'].apply(lambda x: os.path.basename(x).split('_')[0])\n",
    "df_fea3['slide_id'] = df_fea3['fea3_file_path'].apply(lambda x: os.path.basename(x).split('_')[0])\n",
    "\n",
    "df_fea1 = df_fea1.drop_duplicates(subset='slide_id', keep='first').reset_index(drop=True)\n",
    "df_fea2 = df_fea2.drop_duplicates(subset='slide_id', keep='first').reset_index(drop=True)\n",
    "df_fea3 = df_fea3.drop_duplicates(subset='slide_id', keep='first').reset_index(drop=True)\n",
    "\n",
    "df_fea = pd.merge(df_fea1, df_fea2, on='slide_id', how='inner')\n",
    "df_fea = pd.merge(df_fea, df_fea3, on='slide_id', how='inner')\n",
    "\n",
    "df_fea['project'] = 'GTEx-Normal'"
   ]
  },
  {
   "cell_type": "code",
   "execution_count": 6,
   "id": "c261efa1-f96f-4325-802b-a48f3f697501",
   "metadata": {},
   "outputs": [
    {
     "name": "stdout",
     "output_type": "stream",
     "text": [
      "                                          fea1_file_path         slide_id  \\\n",
      "0      /bask/homes/a/asiw9691/PathVLM/WSI_Dataset/Con...  GTEX-1ICLZ-0526   \n",
      "1      /bask/homes/a/asiw9691/PathVLM/WSI_Dataset/Con...   GTEX-P44H-0726   \n",
      "2      /bask/homes/a/asiw9691/PathVLM/WSI_Dataset/Con...  GTEX-1GZ2Q-0826   \n",
      "3      /bask/homes/a/asiw9691/PathVLM/WSI_Dataset/Con...   GTEX-P4QS-1226   \n",
      "4      /bask/homes/a/asiw9691/PathVLM/WSI_Dataset/Con...   GTEX-R55F-2126   \n",
      "...                                                  ...              ...   \n",
      "25419  /bask/homes/a/asiw9691/PathVLM/WSI_Dataset/Con...  GTEX-139T6-1326   \n",
      "25420  /bask/homes/a/asiw9691/PathVLM/WSI_Dataset/Con...   GTEX-VUSG-1926   \n",
      "25421  /bask/homes/a/asiw9691/PathVLM/WSI_Dataset/Con...   GTEX-ZYFC-2326   \n",
      "25422  /bask/homes/a/asiw9691/PathVLM/WSI_Dataset/Con...  GTEX-15SZO-1926   \n",
      "25423  /bask/homes/a/asiw9691/PathVLM/WSI_Dataset/Con...  GTEX-1IDJI-0626   \n",
      "\n",
      "                                          fea2_file_path  \\\n",
      "0      /bask/homes/a/asiw9691/PathVLM/WSI_Dataset/Con...   \n",
      "1      /bask/homes/a/asiw9691/PathVLM/WSI_Dataset/Con...   \n",
      "2      /bask/homes/a/asiw9691/PathVLM/WSI_Dataset/Con...   \n",
      "3      /bask/homes/a/asiw9691/PathVLM/WSI_Dataset/Con...   \n",
      "4      /bask/homes/a/asiw9691/PathVLM/WSI_Dataset/Con...   \n",
      "...                                                  ...   \n",
      "25419  /bask/homes/a/asiw9691/PathVLM/WSI_Dataset/Con...   \n",
      "25420  /bask/homes/a/asiw9691/PathVLM/WSI_Dataset/Con...   \n",
      "25421  /bask/homes/a/asiw9691/PathVLM/WSI_Dataset/Con...   \n",
      "25422  /bask/homes/a/asiw9691/PathVLM/WSI_Dataset/Con...   \n",
      "25423  /bask/homes/a/asiw9691/PathVLM/WSI_Dataset/Con...   \n",
      "\n",
      "                                          fea3_file_path      project  \n",
      "0      /bask/homes/a/asiw9691/PathVLM/WSI_Dataset/Con...  GTEx-Normal  \n",
      "1      /bask/homes/a/asiw9691/PathVLM/WSI_Dataset/Con...  GTEx-Normal  \n",
      "2      /bask/homes/a/asiw9691/PathVLM/WSI_Dataset/Con...  GTEx-Normal  \n",
      "3      /bask/homes/a/asiw9691/PathVLM/WSI_Dataset/Con...  GTEx-Normal  \n",
      "4      /bask/homes/a/asiw9691/PathVLM/WSI_Dataset/Con...  GTEx-Normal  \n",
      "...                                                  ...          ...  \n",
      "25419  /bask/homes/a/asiw9691/PathVLM/WSI_Dataset/Con...  GTEx-Normal  \n",
      "25420  /bask/homes/a/asiw9691/PathVLM/WSI_Dataset/Con...  GTEx-Normal  \n",
      "25421  /bask/homes/a/asiw9691/PathVLM/WSI_Dataset/Con...  GTEx-Normal  \n",
      "25422  /bask/homes/a/asiw9691/PathVLM/WSI_Dataset/Con...  GTEx-Normal  \n",
      "25423  /bask/homes/a/asiw9691/PathVLM/WSI_Dataset/Con...  GTEx-Normal  \n",
      "\n",
      "[25424 rows x 5 columns]\n"
     ]
    }
   ],
   "source": [
    "df = df_fea\n",
    "print(df)"
   ]
  },
  {
   "cell_type": "code",
   "execution_count": 7,
   "id": "43a2dc76-ee1c-43ea-8c7f-df742e85ab13",
   "metadata": {},
   "outputs": [],
   "source": [
    "# 定义聚类中心计算函数\n",
    "def get_cluster_centers_indices(data, n_clusters):\n",
    "    \n",
    "    # 如果n_clusters大于数据点个数，复制数据\n",
    "    if len(data) < n_clusters:\n",
    "        return list(range(len(data)))\n",
    "    \n",
    "    kmeans = KMeans(n_clusters=n_clusters, n_init='auto')\n",
    "    kmeans.fit(data)\n",
    "    labels = kmeans.labels_\n",
    "    \n",
    "    cluster_centers_indices = []\n",
    "    for i in range(n_clusters):\n",
    "        cluster_indices = np.where(labels == i)[0]\n",
    "        center_index = cluster_indices[np.argmin(np.linalg.norm(data[cluster_indices] - kmeans.cluster_centers_[i], axis=1))]\n",
    "        cluster_centers_indices.append(center_index)\n",
    "    \n",
    "    return cluster_centers_indices\n",
    "\n",
    "# 定义处理单行数据的函数\n",
    "def process_row(i, df, n_clusters):\n",
    "    \n",
    "    \n",
    "    feature1_content = np.load(df.iloc[i]['fea1_file_path'], allow_pickle=True)\n",
    "    feature1 = feature1_content[()]['feature'].cpu().numpy()\n",
    "    # feature1_cor = feature1_content[()]['index']\n",
    "    \n",
    "    feature2_content = np.load(df.iloc[i]['fea2_file_path'], allow_pickle=True)\n",
    "    feature2 = feature2_content[()]['feature'].cpu().numpy()\n",
    "    # feature2_cor = feature2_content[()]['index']\n",
    "    \n",
    "    feature3_content = np.load(df.iloc[i]['fea3_file_path'], allow_pickle=True)\n",
    "    feature3 = feature3_content[()]['feature'].cpu().numpy()\n",
    "    # feature3_cor = feature3_content[()]['index']\n",
    "    \n",
    "    # 计算每个特征的聚类中心\n",
    "    try:\n",
    "        f1_cc = get_cluster_centers_indices(feature1, n_clusters[0])\n",
    "        f1_cc_fea = np.array([feature1[index, :] for index in f1_cc])  # 转换为numpy数组\n",
    "    except Exception as e:\n",
    "        print(f\"Error processing feature1 for row {i}: {e}\")\n",
    "        f1_cc_fea = np.array([])  # 返回空的numpy数组\n",
    "\n",
    "    try:\n",
    "        f2_cc = get_cluster_centers_indices(feature2, n_clusters[1])\n",
    "        f2_cc_fea = np.array([feature2[index, :] for index in f2_cc])  # 转换为numpy数组\n",
    "    except Exception as e:\n",
    "        print(f\"Error processing feature2 for row {i}: {e}\")\n",
    "        f2_cc_fea = np.array([])  # 返回空的numpy数组\n",
    "\n",
    "    try:\n",
    "        f3_cc = get_cluster_centers_indices(feature3, n_clusters[2])\n",
    "        f3_cc_fea = np.array([feature3[index, :] for index in f3_cc])  # 转换为numpy数组\n",
    "    except Exception as e:\n",
    "        print(f\"Error processing feature3 for row {i}: {e}\")\n",
    "        f3_cc_fea = np.array([])  # 返回空的numpy数组\n",
    "    \n",
    "    slide_id = df['slide_id'].iloc[i]\n",
    "    \n",
    "    return {'f1024': f1_cc_fea, \n",
    "            'f2048': f2_cc_fea, \n",
    "            'f4096': f3_cc_fea}, slide_id\n",
    "            # 'slide_id': df['slide_id'].iloc[i],\n",
    "            # 'project': df['project'].iloc[i]}\n",
    "\n",
    "def process_data_multithreaded(df, n_clusters, save_dir, max_threads=4):\n",
    "    # data = []\n",
    "    \n",
    "    with ThreadPoolExecutor(max_workers=max_threads) as executor:\n",
    "        futures = [executor.submit(process_row, i, df, n_clusters) for i in range(df.shape[0])]\n",
    "        \n",
    "        for future in tqdm(as_completed(futures), total=len(futures)):\n",
    "            feature_cc, slide_id = future.result()\n",
    "            np.save(os.path.join(save_dir, f'{slide_id}.npy'), feature_cc)"
   ]
  },
  {
   "cell_type": "code",
   "execution_count": 8,
   "id": "ff38ec3a-6e95-4614-ba29-87dac45a5724",
   "metadata": {},
   "outputs": [
    {
     "name": "stdout",
     "output_type": "stream",
     "text": [
      "GTEx-Normal\n",
      "(25424, 5)\n"
     ]
    },
    {
     "name": "stderr",
     "output_type": "stream",
     "text": [
      "100%|██████████| 25424/25424 [44:36<00:00,  9.50it/s] \n"
     ]
    }
   ],
   "source": [
    "n_clusters = [32, 16, 8]\n",
    "\n",
    "for project in df['project'].unique():\n",
    "    print(project)\n",
    "    df_sub = df[df['project'] == project]\n",
    "    print(df_sub.shape)\n",
    "    save_dir = os.path.join('/bask/homes/a/asiw9691/PathVLM/WSI_Dataset/Conch_CC', project)\n",
    "    \n",
    "    # create dir\n",
    "    if not os.path.exists(save_dir):\n",
    "        os.makedirs(save_dir)  # Ensure the directory exists\n",
    "        \n",
    "    processed_data = process_data_multithreaded(df_sub, n_clusters, save_dir, max_threads=10)\n",
    "    # processed_data = pd.DataFrame(processed_data)\n",
    "    # processed_data.to_csv(os.path.join('/bask/homes/a/asiw9691/PathVLM/WSI_Dataset/Conch_CC', '{}_cc.csv'.format(project)), index=False)"
   ]
  },
  {
   "cell_type": "code",
   "execution_count": null,
   "id": "b8ae138c-4db7-49c3-b9ee-d8a9081e34af",
   "metadata": {},
   "outputs": [],
   "source": []
  }
 ],
 "metadata": {
  "kernelspec": {
   "display_name": "asiw9691_conda_env (Conda)",
   "language": "python",
   "name": "sys_asiw9691_conda_env"
  },
  "language_info": {
   "codemirror_mode": {
    "name": "ipython",
    "version": 3
   },
   "file_extension": ".py",
   "mimetype": "text/x-python",
   "name": "python",
   "nbconvert_exporter": "python",
   "pygments_lexer": "ipython3",
   "version": "3.10.4"
  }
 },
 "nbformat": 4,
 "nbformat_minor": 5
}

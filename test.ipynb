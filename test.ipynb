{
 "cells": [
  {
   "cell_type": "code",
   "execution_count": 1,
   "id": "1da80fca-b6b5-4337-8def-1891f34aa83e",
   "metadata": {},
   "outputs": [
    {
     "name": "stderr",
     "output_type": "stream",
     "text": [
      "/bask/projects/p/phwq4930-gbm/Zeyu/asiw9691_conda_env/lib/python3.10/site-packages/tqdm/auto.py:21: TqdmWarning: IProgress not found. Please update jupyter and ipywidgets. See https://ipywidgets.readthedocs.io/en/stable/user_install.html\n",
      "  from .autonotebook import tqdm as notebook_tqdm\n"
     ]
    }
   ],
   "source": [
    "from PIL import ImageFile\n",
    "ImageFile.LOAD_TRUNCATED_IMAGES = True\n",
    "import os\n",
    "import ast\n",
    "import random\n",
    "import pandas as pd\n",
    "from transformers import TrainingArguments, AutoTokenizer, HfArgumentParser\n",
    "from utils.my_trainer import CustomTrainer\n",
    "from utils.utils import my_compute_metrics,seed_everything\n",
    "from typing import Optional\n",
    "from dataclasses import dataclass, field\n",
    "from model.qformer import Blip2QformerPatch\n",
    "from peft import LoraConfig\n",
    "from datasets import load_dataset, concatenate_datasets\n",
    "from utils.data_collator import MyDataCollatorForQFormerPatch"
   ]
  },
  {
   "cell_type": "code",
   "execution_count": 2,
   "id": "27ac1371-224c-4f5d-ac5f-702aaa442f34",
   "metadata": {},
   "outputs": [],
   "source": [
    "dataset_name_list = [\"CNX-PathLLM/Pathcap\", \"CNX-PathLLM/PubMedPath\", \"CNX-PathLLM/TwitterPath\", \"CNX-PathLLM/CleanedTextData\"]\n",
    "split_text = \"train\"\n",
    "data_cache_dir = \"/bask/projects/p/phwq4930-gbm/Zeyu/PathVLM/.cache\"\n",
    "\n",
    "clip_name = 'conch'\n",
    "bert_name = 'microsoft/BiomedNLP-BiomedBERT-base-uncased-abstract-fulltext'\n",
    "\n",
    "def formatting_func(examples):\n",
    "    text = examples[\"txt\"]\n",
    "    examples[\"text\"] = text\n",
    "    return examples"
   ]
  },
  {
   "cell_type": "code",
   "execution_count": 3,
   "id": "0471570c-6d7a-4eb0-8bc3-135155a67c80",
   "metadata": {},
   "outputs": [],
   "source": [
    "dataset = []\n",
    "eval_dataset = None\n",
    "\n",
    "for dataset_name in dataset_name_list:\n",
    "    one_dataset = load_dataset(dataset_name, split=split_text, cache_dir=data_cache_dir)\n",
    "    one_dataset = one_dataset.rename_column('jpg', 'image')\n",
    "    one_dataset = one_dataset.map(formatting_func, num_proc=4, remove_columns=['txt','__key__', '__url__'])\n",
    "    dataset.append(one_dataset)"
   ]
  },
  {
   "cell_type": "code",
   "execution_count": 4,
   "id": "85ea0c69-c79d-4a3d-9390-52a82fa27ca7",
   "metadata": {},
   "outputs": [],
   "source": [
    "dataset = concatenate_datasets(dataset)\n",
    "train_dataset = dataset"
   ]
  },
  {
   "cell_type": "code",
   "execution_count": 5,
   "id": "07cbd3e8-9142-456d-ac69-791ac8683413",
   "metadata": {},
   "outputs": [
    {
     "name": "stdout",
     "output_type": "stream",
     "text": [
      "vision_encoder loading ...\n"
     ]
    }
   ],
   "source": [
    "model = Blip2QformerPatch(clip_name = clip_name,\n",
    "                            num_query_token=16,\n",
    "                            cross_attention_freq=2,\n",
    "                            embed_dim=256,\n",
    "                            pretrain_name = bert_name,\n",
    "                            max_txt_len = 256,)"
   ]
  },
  {
   "cell_type": "code",
   "execution_count": 6,
   "id": "d6ea8687-66df-4228-8ff7-0cd7b69c6cc0",
   "metadata": {},
   "outputs": [],
   "source": [
    "data_collator = MyDataCollatorForQFormerPatch(model.image_processor)"
   ]
  },
  {
   "cell_type": "code",
   "execution_count": 12,
   "id": "95c98178-cfba-4cb4-a17e-ecec3d924ceb",
   "metadata": {},
   "outputs": [],
   "source": [
    "sampled_dataset = dataset.select(range(4))"
   ]
  },
  {
   "cell_type": "code",
   "execution_count": 14,
   "id": "49a0cbb9-9263-49a3-a506-d6e70e232378",
   "metadata": {},
   "outputs": [],
   "source": [
    "batch = data_collator.torch_call(sampled_dataset)"
   ]
  },
  {
   "cell_type": "code",
   "execution_count": 16,
   "id": "e1a125da-ff0c-446d-a79e-9f9b32d9c43a",
   "metadata": {},
   "outputs": [
    {
     "data": {
      "text/plain": [
       "['Histopathological features of the lesion (H and E staining) at ×40.',\n",
       " 'Representative myocardial tissue morphological injuries in the CPR + rhBNP groups. Myocardial injury in the rhBNP group was reduced compared with the placebo group, as characterized by perivascular edema (green arrows), myofibril derangement (black arrows), and neutrophil adhesion (yellow arrows) to the vascular endothelium.',\n",
       " 'Light microscopy image of the thyroid gland in rats. R2-R4 groups. Hypothyroid tissue with variable form of thyroid follicles. The follicular thyrocytes had hypertrophy and hyperplasia.',\n",
       " 'Microscopic features of sialolipoma showing a presence of lobules of mature adipose tissue separated by fibrous septae.']"
      ]
     },
     "execution_count": 16,
     "metadata": {},
     "output_type": "execute_result"
    }
   ],
   "source": [
    "batch[\"text\"]"
   ]
  },
  {
   "cell_type": "code",
   "execution_count": null,
   "id": "ca7ad28e-7a27-4bf4-b832-5473db6e7ee8",
   "metadata": {},
   "outputs": [],
   "source": []
  }
 ],
 "metadata": {
  "kernelspec": {
   "display_name": "asiw9691_conda_env (Conda)",
   "language": "python",
   "name": "sys_asiw9691_conda_env"
  },
  "language_info": {
   "codemirror_mode": {
    "name": "ipython",
    "version": 3
   },
   "file_extension": ".py",
   "mimetype": "text/x-python",
   "name": "python",
   "nbconvert_exporter": "python",
   "pygments_lexer": "ipython3",
   "version": "3.10.4"
  }
 },
 "nbformat": 4,
 "nbformat_minor": 5
}
